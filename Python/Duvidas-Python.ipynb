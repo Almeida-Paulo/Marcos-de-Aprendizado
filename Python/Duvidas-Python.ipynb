{
 "cells": [
  {
   "cell_type": "markdown",
   "metadata": {},
   "source": []
  },
  {
   "cell_type": "code",
   "execution_count": 13,
   "metadata": {},
   "outputs": [],
   "source": [
    "# importacão das bibliotecas necessárias\n",
    "import pandas as pd\n",
    "import re"
   ]
  },
  {
   "cell_type": "code",
   "execution_count": null,
   "metadata": {},
   "outputs": [],
   "source": []
  },
  {
   "cell_type": "code",
   "execution_count": null,
   "metadata": {},
   "outputs": [],
   "source": []
  },
  {
   "cell_type": "code",
   "execution_count": null,
   "metadata": {},
   "outputs": [],
   "source": []
  },
  {
   "cell_type": "code",
   "execution_count": 5,
   "metadata": {},
   "outputs": [],
   "source": [
    "# Criação do dicionário com as colunas para comparação que será incluído no dataframe\n",
    "dicionario = {'nome_adm': ['CC Brasil', \n",
    "                   'ABC Futuro',\n",
    "\t\t\t\t   'Tabuao'], \n",
    "              \n",
    "              'nome': ['brasil fundo de investimento em cotas ', \n",
    "                   'previ futuro multimercado',\n",
    "\t\t\t\t   'brasil handmade ii multimercado credito privado'], \n",
    "\t\t\t\t   \n",
    "\t\t  'publico': [' publico em geral ', \n",
    "                   'investidores profissionais',\n",
    "                   'previdenciario'], \n",
    "\t\t\t\t  \n",
    "          'texto': ['qual o seu publico alvo. o fundo recebera recursos de investidores qualificados que 777', \n",
    "                    'publico alvo o fundo recebera recursos de publico alvo capitulo i profissionais que o capitulo i',\n",
    "                   'publico que tem VGBL e previdencia']}"
   ]
  },
  {
   "cell_type": "code",
   "execution_count": 6,
   "metadata": {},
   "outputs": [],
   "source": [
    "data = pd.DataFrame(dicionario)"
   ]
  },
  {
   "cell_type": "code",
   "execution_count": 10,
   "metadata": {},
   "outputs": [],
   "source": [
    "data['texto_curto'] = None\n",
    "data"
   ]
  },
  {
   "cell_type": "code",
   "execution_count": 15,
   "metadata": {},
   "outputs": [
    {
     "data": {
      "text/html": [
       "<div>\n",
       "<style scoped>\n",
       "    .dataframe tbody tr th:only-of-type {\n",
       "        vertical-align: middle;\n",
       "    }\n",
       "\n",
       "    .dataframe tbody tr th {\n",
       "        vertical-align: top;\n",
       "    }\n",
       "\n",
       "    .dataframe thead th {\n",
       "        text-align: right;\n",
       "    }\n",
       "</style>\n",
       "<table border=\"1\" class=\"dataframe\">\n",
       "  <thead>\n",
       "    <tr style=\"text-align: right;\">\n",
       "      <th></th>\n",
       "      <th>nome_adm</th>\n",
       "      <th>nome</th>\n",
       "      <th>publico</th>\n",
       "      <th>texto</th>\n",
       "      <th>texto_curto</th>\n",
       "    </tr>\n",
       "  </thead>\n",
       "  <tbody>\n",
       "    <tr>\n",
       "      <th>0</th>\n",
       "      <td>CC Brasil</td>\n",
       "      <td>brasil fundo de investimento em cotas</td>\n",
       "      <td>publico em geral</td>\n",
       "      <td>qual o seu publico alvo. o fundo recebera recu...</td>\n",
       "      <td>publico alvo. o f</td>\n",
       "    </tr>\n",
       "    <tr>\n",
       "      <th>1</th>\n",
       "      <td>ABC Futuro</td>\n",
       "      <td>previ futuro multimercado</td>\n",
       "      <td>investidores profissionais</td>\n",
       "      <td>publico alvo o fundo recebera recursos de publ...</td>\n",
       "      <td>publico alvo o fu</td>\n",
       "    </tr>\n",
       "    <tr>\n",
       "      <th>2</th>\n",
       "      <td>Tabuao</td>\n",
       "      <td>brasil handmade ii multimercado credito privado</td>\n",
       "      <td>previdenciario</td>\n",
       "      <td>publico que tem VGBL e previdencia</td>\n",
       "      <td>NaN</td>\n",
       "    </tr>\n",
       "  </tbody>\n",
       "</table>\n",
       "</div>"
      ],
      "text/plain": [
       "     nome_adm                                             nome  \\\n",
       "0   CC Brasil           brasil fundo de investimento em cotas    \n",
       "1  ABC Futuro                        previ futuro multimercado   \n",
       "2      Tabuao  brasil handmade ii multimercado credito privado   \n",
       "\n",
       "                      publico  \\\n",
       "0           publico em geral    \n",
       "1  investidores profissionais   \n",
       "2              previdenciario   \n",
       "\n",
       "                                               texto        texto_curto  \n",
       "0  qual o seu publico alvo. o fundo recebera recu...  publico alvo. o f  \n",
       "1  publico alvo o fundo recebera recursos de publ...  publico alvo o fu  \n",
       "2                 publico que tem VGBL e previdencia                NaN  "
      ]
     },
     "execution_count": 15,
     "metadata": {},
     "output_type": "execute_result"
    }
   ],
   "source": [
    "# primeira comparação = OK\n",
    "data['texto_curto'] = data['texto'].str.extract(r'(publico alvo.{0,5})',flags=re.IGNORECASE)\n",
    "data"
   ]
  },
  {
   "cell_type": "code",
   "execution_count": 20,
   "metadata": {},
   "outputs": [
    {
     "data": {
      "text/html": [
       "<div>\n",
       "<style scoped>\n",
       "    .dataframe tbody tr th:only-of-type {\n",
       "        vertical-align: middle;\n",
       "    }\n",
       "\n",
       "    .dataframe tbody tr th {\n",
       "        vertical-align: top;\n",
       "    }\n",
       "\n",
       "    .dataframe thead th {\n",
       "        text-align: right;\n",
       "    }\n",
       "</style>\n",
       "<table border=\"1\" class=\"dataframe\">\n",
       "  <thead>\n",
       "    <tr style=\"text-align: right;\">\n",
       "      <th></th>\n",
       "      <th>nome_adm</th>\n",
       "      <th>nome</th>\n",
       "      <th>publico</th>\n",
       "      <th>texto</th>\n",
       "      <th>texto_curto</th>\n",
       "    </tr>\n",
       "  </thead>\n",
       "  <tbody>\n",
       "    <tr>\n",
       "      <th>0</th>\n",
       "      <td>CC Brasil</td>\n",
       "      <td>brasil fundo de investimento em cotas</td>\n",
       "      <td>publico em geral</td>\n",
       "      <td>qual o seu publico alvo. o fundo recebera recu...</td>\n",
       "      <td>NaN</td>\n",
       "    </tr>\n",
       "    <tr>\n",
       "      <th>1</th>\n",
       "      <td>ABC Futuro</td>\n",
       "      <td>previ futuro multimercado</td>\n",
       "      <td>investidores profissionais</td>\n",
       "      <td>publico alvo o fundo recebera recursos de publ...</td>\n",
       "      <td>NaN</td>\n",
       "    </tr>\n",
       "    <tr>\n",
       "      <th>2</th>\n",
       "      <td>Tabuao</td>\n",
       "      <td>brasil handmade ii multimercado credito privado</td>\n",
       "      <td>previdenciario</td>\n",
       "      <td>publico que tem VGBL e previdencia</td>\n",
       "      <td>VGBL e previdencia</td>\n",
       "    </tr>\n",
       "  </tbody>\n",
       "</table>\n",
       "</div>"
      ],
      "text/plain": [
       "     nome_adm                                             nome  \\\n",
       "0   CC Brasil           brasil fundo de investimento em cotas    \n",
       "1  ABC Futuro                        previ futuro multimercado   \n",
       "2      Tabuao  brasil handmade ii multimercado credito privado   \n",
       "\n",
       "                      publico  \\\n",
       "0           publico em geral    \n",
       "1  investidores profissionais   \n",
       "2              previdenciario   \n",
       "\n",
       "                                               texto         texto_curto  \n",
       "0  qual o seu publico alvo. o fundo recebera recu...                 NaN  \n",
       "1  publico alvo o fundo recebera recursos de publ...                 NaN  \n",
       "2                 publico que tem VGBL e previdencia  VGBL e previdencia  "
      ]
     },
     "execution_count": 20,
     "metadata": {},
     "output_type": "execute_result"
    }
   ],
   "source": [
    "# segunda comparação = NOK\n",
    "data['texto_curto'] = data.loc[data['nome_adm'] == 'Tabuao']['texto'].str.extract(r'(vgbl.*)',flags=re.IGNORECASE | re.M)\n",
    "data"
   ]
  },
  {
   "cell_type": "code",
   "execution_count": null,
   "metadata": {},
   "outputs": [],
   "source": []
  },
  {
   "cell_type": "code",
   "execution_count": null,
   "metadata": {},
   "outputs": [],
   "source": []
  }
 ],
 "metadata": {
  "kernelspec": {
   "display_name": "Python 3",
   "language": "python",
   "name": "python3"
  },
  "language_info": {
   "codemirror_mode": {
    "name": "ipython",
    "version": 3
   },
   "file_extension": ".py",
   "mimetype": "text/x-python",
   "name": "python",
   "nbconvert_exporter": "python",
   "pygments_lexer": "ipython3",
   "version": "3.7.9"
  },
  "toc": {
   "base_numbering": 1,
   "nav_menu": {},
   "number_sections": true,
   "sideBar": true,
   "skip_h1_title": false,
   "title_cell": "Table of Contents",
   "title_sidebar": "Contents",
   "toc_cell": false,
   "toc_position": {},
   "toc_section_display": true,
   "toc_window_display": false
  }
 },
 "nbformat": 4,
 "nbformat_minor": 4
}
