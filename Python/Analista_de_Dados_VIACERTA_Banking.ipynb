{
 "cells": [
  {
   "cell_type": "code",
   "execution_count": 112,
   "id": "46d16ae3",
   "metadata": {
    "extensions": {
     "jupyter_dashboards": {
      "version": 1,
      "views": {
       "grid_default": {},
       "report_default": {
        "hidden": true
       }
      }
     }
    }
   },
   "outputs": [],
   "source": [
    "import pandas as pd\n",
    "import numpy as np\n",
    "import plotly.express as px\n",
    "from matplotlib import pyplot as plt\n",
    "import seaborn as sns\n",
    "data_IDHM = pd.read_excel(r'datasets/IDHM_dataset.xlsx')\n",
    "data_ENEM = pd.read_csv('datasets/MICRODADOS_ENEM_2020.csv', sep=\";\", encoding=\"ISO-8859-1\", nrows=10)"
   ]
  },
  {
   "cell_type": "code",
   "execution_count": 61,
   "id": "bfa42275",
   "metadata": {
    "extensions": {
     "jupyter_dashboards": {
      "version": 1,
      "views": {
       "grid_default": {},
       "report_default": {
        "hidden": false
       }
      }
     }
    }
   },
   "outputs": [
    {
     "data": {
      "text/plain": [
       "Index(['Ranking_IDHM_2010', 'Municipio', 'IDHM', 'IDHM_Renda',\n",
       "       'IDHM_Longevidade', 'IDHM_Educacao'],\n",
       "      dtype='object')"
      ]
     },
     "execution_count": 61,
     "metadata": {},
     "output_type": "execute_result"
    }
   ],
   "source": [
    "data_IDHM.columns"
   ]
  },
  {
   "cell_type": "code",
   "execution_count": 62,
   "id": "ff8f4aab",
   "metadata": {
    "extensions": {
     "jupyter_dashboards": {
      "version": 1,
      "views": {
       "grid_default": {},
       "report_default": {
        "hidden": false
       }
      }
     }
    },
    "scrolled": true
   },
   "outputs": [
    {
     "data": {
      "text/plain": [
       "Ranking_IDHM_2010    False\n",
       "Municipio            False\n",
       "IDHM                 False\n",
       "IDHM_Renda           False\n",
       "IDHM_Longevidade     False\n",
       "IDHM_Educacao        False\n",
       "dtype: bool"
      ]
     },
     "execution_count": 62,
     "metadata": {},
     "output_type": "execute_result"
    }
   ],
   "source": [
    "#verificando valores faltantes\n",
    "data_IDHM.isna().any()"
   ]
  },
  {
   "cell_type": "code",
   "execution_count": 63,
   "id": "8e682c1d",
   "metadata": {
    "collapsed": true,
    "extensions": {
     "jupyter_dashboards": {
      "version": 1,
      "views": {
       "grid_default": {},
       "report_default": {
        "hidden": false
       }
      }
     }
    }
   },
   "outputs": [
    {
     "data": {
      "text/plain": [
       "NU_INSCRICAO       False\n",
       "NU_ANO             False\n",
       "TP_FAIXA_ETARIA    False\n",
       "TP_SEXO            False\n",
       "TP_ESTADO_CIVIL    False\n",
       "                   ...  \n",
       "Q021                True\n",
       "Q022                True\n",
       "Q023                True\n",
       "Q024                True\n",
       "Q025                True\n",
       "Length: 76, dtype: bool"
      ]
     },
     "execution_count": 63,
     "metadata": {},
     "output_type": "execute_result"
    }
   ],
   "source": [
    "data_ENEM.isna().any()"
   ]
  },
  {
   "cell_type": "code",
   "execution_count": 113,
   "id": "620ddda6",
   "metadata": {
    "extensions": {
     "jupyter_dashboards": {
      "version": 1,
      "views": {
       "grid_default": {},
       "report_default": {
        "hidden": true
       }
      }
     }
    }
   },
   "outputs": [],
   "source": [
    "data_IDHM['IDHM'] = data_IDHM['IDHM'].str.replace(',','.')\n",
    "data_IDHM['IDHM_Renda'] = data_IDHM['IDHM_Renda'].str.replace(',','.')\n",
    "data_IDHM['IDHM_Longevidade'] = data_IDHM['IDHM_Longevidade'].str.replace(',','.')\n",
    "data_IDHM['IDHM_Educacao'] = data_IDHM['IDHM_Educacao'].str.replace(',','.')\n"
   ]
  },
  {
   "cell_type": "code",
   "execution_count": 114,
   "id": "652c7753",
   "metadata": {
    "extensions": {
     "jupyter_dashboards": {
      "version": 1,
      "views": {
       "grid_default": {},
       "report_default": {
        "hidden": true
       }
      }
     }
    }
   },
   "outputs": [],
   "source": [
    "#extrair apenas os 5 primeiros caracteres '0.000' para remover erros do tipo '0.000td>'\n",
    "data_IDHM['IDHM_Renda'] = data_IDHM['IDHM_Renda'].str[:5]\n",
    "data_IDHM['IDHM_Longevidade'] = data_IDHM['IDHM_Longevidade'].str[:5]\n",
    "data_IDHM['IDHM_Educacao'] = data_IDHM['IDHM_Educacao'].str[:5]\n",
    "#data_IDHM['IDHM_Educacao'].unique()"
   ]
  },
  {
   "cell_type": "code",
   "execution_count": 115,
   "id": "9b7a7c14",
   "metadata": {
    "extensions": {
     "jupyter_dashboards": {
      "version": 1,
      "views": {
       "grid_default": {},
       "report_default": {
        "hidden": true
       }
      }
     }
    }
   },
   "outputs": [],
   "source": [
    "#transformando tipo em float\n",
    "data_IDHM['IDHM'] = data_IDHM['IDHM'].astype(float)\n",
    "data_IDHM['IDHM_Renda'] = data_IDHM['IDHM_Renda'].astype(float)\n",
    "data_IDHM['IDHM_Longevidade'] = data_IDHM['IDHM_Longevidade'].astype(float)\n",
    "data_IDHM['IDHM_Educacao'] = data_IDHM['IDHM_Educacao'].astype(float)\n",
    "#data_IDHM.dtypes"
   ]
  },
  {
   "cell_type": "code",
   "execution_count": 116,
   "id": "01631422",
   "metadata": {
    "extensions": {
     "jupyter_dashboards": {
      "version": 1,
      "views": {
       "grid_default": {},
       "report_default": {
        "hidden": true
       }
      }
     }
    }
   },
   "outputs": [],
   "source": [
    "data_IDHM['UF'] = data_IDHM['Municipio'].str.extract(r\"\\((.*?)\\)\", expand=False) # extrai o que tá entre parenteses r\"\\((.*?)\\)\""
   ]
  },
  {
   "cell_type": "code",
   "execution_count": null,
   "id": "a6d560a2",
   "metadata": {
    "extensions": {
     "jupyter_dashboards": {
      "version": 1,
      "views": {
       "grid_default": {},
       "report_default": {
        "hidden": true
       }
      }
     }
    }
   },
   "outputs": [],
   "source": []
  },
  {
   "cell_type": "code",
   "execution_count": 117,
   "id": "c916beb8",
   "metadata": {
    "extensions": {
     "jupyter_dashboards": {
      "version": 1,
      "views": {
       "grid_default": {},
       "report_default": {
        "hidden": false
       }
      }
     }
    }
   },
   "outputs": [
    {
     "data": {
      "text/html": [
       "<div>\n",
       "<style scoped>\n",
       "    .dataframe tbody tr th:only-of-type {\n",
       "        vertical-align: middle;\n",
       "    }\n",
       "\n",
       "    .dataframe tbody tr th {\n",
       "        vertical-align: top;\n",
       "    }\n",
       "\n",
       "    .dataframe thead th {\n",
       "        text-align: right;\n",
       "    }\n",
       "</style>\n",
       "<table border=\"1\" class=\"dataframe\">\n",
       "  <thead>\n",
       "    <tr style=\"text-align: right;\">\n",
       "      <th></th>\n",
       "      <th>Ranking_IDHM_2010</th>\n",
       "      <th>Municipio</th>\n",
       "      <th>IDHM</th>\n",
       "      <th>IDHM_Renda</th>\n",
       "      <th>IDHM_Longevidade</th>\n",
       "      <th>IDHM_Educacao</th>\n",
       "      <th>UF</th>\n",
       "    </tr>\n",
       "  </thead>\n",
       "  <tbody>\n",
       "    <tr>\n",
       "      <th>0</th>\n",
       "      <td>1 º</td>\n",
       "      <td>São Caetano do Sul (SP)</td>\n",
       "      <td>0.862</td>\n",
       "      <td>0.891</td>\n",
       "      <td>0.887</td>\n",
       "      <td>0.811</td>\n",
       "      <td>SP</td>\n",
       "    </tr>\n",
       "    <tr>\n",
       "      <th>1</th>\n",
       "      <td>2 º</td>\n",
       "      <td>Águas de São Pedro (SP)</td>\n",
       "      <td>0.854</td>\n",
       "      <td>0.849</td>\n",
       "      <td>0.890</td>\n",
       "      <td>0.825</td>\n",
       "      <td>SP</td>\n",
       "    </tr>\n",
       "    <tr>\n",
       "      <th>2</th>\n",
       "      <td>3 º</td>\n",
       "      <td>Florianópolis (SC)</td>\n",
       "      <td>0.847</td>\n",
       "      <td>0.870</td>\n",
       "      <td>0.873</td>\n",
       "      <td>0.800</td>\n",
       "      <td>SC</td>\n",
       "    </tr>\n",
       "    <tr>\n",
       "      <th>3</th>\n",
       "      <td>4 º</td>\n",
       "      <td>Balneário Camboriú (SC)</td>\n",
       "      <td>0.845</td>\n",
       "      <td>0.854</td>\n",
       "      <td>0.894</td>\n",
       "      <td>0.789</td>\n",
       "      <td>SC</td>\n",
       "    </tr>\n",
       "    <tr>\n",
       "      <th>4</th>\n",
       "      <td>4 º</td>\n",
       "      <td>Vitória (ES)</td>\n",
       "      <td>0.845</td>\n",
       "      <td>0.876</td>\n",
       "      <td>0.855</td>\n",
       "      <td>0.805</td>\n",
       "      <td>ES</td>\n",
       "    </tr>\n",
       "    <tr>\n",
       "      <th>...</th>\n",
       "      <td>...</td>\n",
       "      <td>...</td>\n",
       "      <td>...</td>\n",
       "      <td>...</td>\n",
       "      <td>...</td>\n",
       "      <td>...</td>\n",
       "      <td>...</td>\n",
       "    </tr>\n",
       "    <tr>\n",
       "      <th>5560</th>\n",
       "      <td>5560 º</td>\n",
       "      <td>Uiramutã (RR)</td>\n",
       "      <td>0.453</td>\n",
       "      <td>0.439</td>\n",
       "      <td>0.766</td>\n",
       "      <td>0.276</td>\n",
       "      <td>RR</td>\n",
       "    </tr>\n",
       "    <tr>\n",
       "      <th>5561</th>\n",
       "      <td>5562 º</td>\n",
       "      <td>Marajá do Sena (MA)</td>\n",
       "      <td>0.452</td>\n",
       "      <td>0.400</td>\n",
       "      <td>0.774</td>\n",
       "      <td>0.299</td>\n",
       "      <td>MA</td>\n",
       "    </tr>\n",
       "    <tr>\n",
       "      <th>5562</th>\n",
       "      <td>5563 º</td>\n",
       "      <td>Atalaia do Norte (AM)</td>\n",
       "      <td>0.450</td>\n",
       "      <td>0.481</td>\n",
       "      <td>0.733</td>\n",
       "      <td>0.259</td>\n",
       "      <td>AM</td>\n",
       "    </tr>\n",
       "    <tr>\n",
       "      <th>5563</th>\n",
       "      <td>5564 º</td>\n",
       "      <td>Fernando Falcão (MA)</td>\n",
       "      <td>0.443</td>\n",
       "      <td>0.417</td>\n",
       "      <td>0.728</td>\n",
       "      <td>0.286</td>\n",
       "      <td>MA</td>\n",
       "    </tr>\n",
       "    <tr>\n",
       "      <th>5564</th>\n",
       "      <td>5565 º</td>\n",
       "      <td>Melgaço (PA)</td>\n",
       "      <td>0.418</td>\n",
       "      <td>0.454</td>\n",
       "      <td>0.776</td>\n",
       "      <td>0.207</td>\n",
       "      <td>PA</td>\n",
       "    </tr>\n",
       "  </tbody>\n",
       "</table>\n",
       "<p>5565 rows × 7 columns</p>\n",
       "</div>"
      ],
      "text/plain": [
       "     Ranking_IDHM_2010                Municipio   IDHM  IDHM_Renda  \\\n",
       "0                  1 º  São Caetano do Sul (SP)  0.862       0.891   \n",
       "1                  2 º  Águas de São Pedro (SP)  0.854       0.849   \n",
       "2                  3 º       Florianópolis (SC)  0.847       0.870   \n",
       "3                  4 º  Balneário Camboriú (SC)  0.845       0.854   \n",
       "4                  4 º             Vitória (ES)  0.845       0.876   \n",
       "...                ...                      ...    ...         ...   \n",
       "5560            5560 º            Uiramutã (RR)  0.453       0.439   \n",
       "5561            5562 º      Marajá do Sena (MA)  0.452       0.400   \n",
       "5562            5563 º    Atalaia do Norte (AM)  0.450       0.481   \n",
       "5563            5564 º     Fernando Falcão (MA)  0.443       0.417   \n",
       "5564            5565 º             Melgaço (PA)  0.418       0.454   \n",
       "\n",
       "      IDHM_Longevidade  IDHM_Educacao  UF  \n",
       "0                0.887          0.811  SP  \n",
       "1                0.890          0.825  SP  \n",
       "2                0.873          0.800  SC  \n",
       "3                0.894          0.789  SC  \n",
       "4                0.855          0.805  ES  \n",
       "...                ...            ...  ..  \n",
       "5560             0.766          0.276  RR  \n",
       "5561             0.774          0.299  MA  \n",
       "5562             0.733          0.259  AM  \n",
       "5563             0.728          0.286  MA  \n",
       "5564             0.776          0.207  PA  \n",
       "\n",
       "[5565 rows x 7 columns]"
      ]
     },
     "execution_count": 117,
     "metadata": {},
     "output_type": "execute_result"
    }
   ],
   "source": [
    "data_IDHM"
   ]
  },
  {
   "cell_type": "code",
   "execution_count": 17,
   "id": "924966fc",
   "metadata": {
    "extensions": {
     "jupyter_dashboards": {
      "version": 1,
      "views": {
       "grid_default": {},
       "report_default": {
        "hidden": true
       }
      }
     }
    }
   },
   "outputs": [],
   "source": [
    "renda_by_UF = data_IDHM[['IDHM_Renda', 'UF']].groupby('UF').mean().sort_values('IDHM_Renda', ascending=False).reset_index()"
   ]
  },
  {
   "cell_type": "code",
   "execution_count": 18,
   "id": "d21e7f0b",
   "metadata": {
    "extensions": {
     "jupyter_dashboards": {
      "version": 1,
      "views": {
       "grid_default": {},
       "report_default": {
        "hidden": true
       }
      }
     }
    }
   },
   "outputs": [],
   "source": [
    "renda_by_UF_frame = pd.DataFrame(renda_by_UF)"
   ]
  },
  {
   "cell_type": "code",
   "execution_count": 19,
   "id": "44fbab52",
   "metadata": {
    "collapsed": true,
    "extensions": {
     "jupyter_dashboards": {
      "version": 1,
      "views": {
       "grid_default": {},
       "report_default": {
        "hidden": false
       }
      }
     }
    }
   },
   "outputs": [
    {
     "data": {
      "text/html": [
       "<div>\n",
       "<style scoped>\n",
       "    .dataframe tbody tr th:only-of-type {\n",
       "        vertical-align: middle;\n",
       "    }\n",
       "\n",
       "    .dataframe tbody tr th {\n",
       "        vertical-align: top;\n",
       "    }\n",
       "\n",
       "    .dataframe thead th {\n",
       "        text-align: right;\n",
       "    }\n",
       "</style>\n",
       "<table border=\"1\" class=\"dataframe\">\n",
       "  <thead>\n",
       "    <tr style=\"text-align: right;\">\n",
       "      <th></th>\n",
       "      <th>UF</th>\n",
       "      <th>IDHM_Renda</th>\n",
       "    </tr>\n",
       "  </thead>\n",
       "  <tbody>\n",
       "    <tr>\n",
       "      <th>0</th>\n",
       "      <td>DF</td>\n",
       "      <td>0.863000</td>\n",
       "    </tr>\n",
       "    <tr>\n",
       "      <th>1</th>\n",
       "      <td>SC</td>\n",
       "      <td>0.728038</td>\n",
       "    </tr>\n",
       "    <tr>\n",
       "      <th>2</th>\n",
       "      <td>RS</td>\n",
       "      <td>0.722115</td>\n",
       "    </tr>\n",
       "    <tr>\n",
       "      <th>3</th>\n",
       "      <td>SP</td>\n",
       "      <td>0.716487</td>\n",
       "    </tr>\n",
       "    <tr>\n",
       "      <th>4</th>\n",
       "      <td>RJ</td>\n",
       "      <td>0.704565</td>\n",
       "    </tr>\n",
       "    <tr>\n",
       "      <th>5</th>\n",
       "      <td>PR</td>\n",
       "      <td>0.691950</td>\n",
       "    </tr>\n",
       "    <tr>\n",
       "      <th>6</th>\n",
       "      <td>MS</td>\n",
       "      <td>0.687846</td>\n",
       "    </tr>\n",
       "    <tr>\n",
       "      <th>7</th>\n",
       "      <td>GO</td>\n",
       "      <td>0.684041</td>\n",
       "    </tr>\n",
       "    <tr>\n",
       "      <th>8</th>\n",
       "      <td>MT</td>\n",
       "      <td>0.682149</td>\n",
       "    </tr>\n",
       "    <tr>\n",
       "      <th>9</th>\n",
       "      <td>ES</td>\n",
       "      <td>0.680628</td>\n",
       "    </tr>\n",
       "    <tr>\n",
       "      <th>10</th>\n",
       "      <td>RO</td>\n",
       "      <td>0.658173</td>\n",
       "    </tr>\n",
       "    <tr>\n",
       "      <th>11</th>\n",
       "      <td>MG</td>\n",
       "      <td>0.651966</td>\n",
       "    </tr>\n",
       "    <tr>\n",
       "      <th>12</th>\n",
       "      <td>AP</td>\n",
       "      <td>0.618875</td>\n",
       "    </tr>\n",
       "    <tr>\n",
       "      <th>13</th>\n",
       "      <td>TO</td>\n",
       "      <td>0.610496</td>\n",
       "    </tr>\n",
       "    <tr>\n",
       "      <th>14</th>\n",
       "      <td>AC</td>\n",
       "      <td>0.585455</td>\n",
       "    </tr>\n",
       "    <tr>\n",
       "      <th>15</th>\n",
       "      <td>RN</td>\n",
       "      <td>0.580395</td>\n",
       "    </tr>\n",
       "    <tr>\n",
       "      <th>16</th>\n",
       "      <td>RR</td>\n",
       "      <td>0.577867</td>\n",
       "    </tr>\n",
       "    <tr>\n",
       "      <th>17</th>\n",
       "      <td>SE</td>\n",
       "      <td>0.577147</td>\n",
       "    </tr>\n",
       "    <tr>\n",
       "      <th>18</th>\n",
       "      <td>BA</td>\n",
       "      <td>0.574743</td>\n",
       "    </tr>\n",
       "    <tr>\n",
       "      <th>19</th>\n",
       "      <td>PE</td>\n",
       "      <td>0.574378</td>\n",
       "    </tr>\n",
       "    <tr>\n",
       "      <th>20</th>\n",
       "      <td>PA</td>\n",
       "      <td>0.572357</td>\n",
       "    </tr>\n",
       "    <tr>\n",
       "      <th>21</th>\n",
       "      <td>PB</td>\n",
       "      <td>0.564381</td>\n",
       "    </tr>\n",
       "    <tr>\n",
       "      <th>22</th>\n",
       "      <td>CE</td>\n",
       "      <td>0.559293</td>\n",
       "    </tr>\n",
       "    <tr>\n",
       "      <th>23</th>\n",
       "      <td>AL</td>\n",
       "      <td>0.548363</td>\n",
       "    </tr>\n",
       "    <tr>\n",
       "      <th>24</th>\n",
       "      <td>PI</td>\n",
       "      <td>0.546813</td>\n",
       "    </tr>\n",
       "    <tr>\n",
       "      <th>25</th>\n",
       "      <td>AM</td>\n",
       "      <td>0.545113</td>\n",
       "    </tr>\n",
       "    <tr>\n",
       "      <th>26</th>\n",
       "      <td>MA</td>\n",
       "      <td>0.531664</td>\n",
       "    </tr>\n",
       "  </tbody>\n",
       "</table>\n",
       "</div>"
      ],
      "text/plain": [
       "    UF  IDHM_Renda\n",
       "0   DF    0.863000\n",
       "1   SC    0.728038\n",
       "2   RS    0.722115\n",
       "3   SP    0.716487\n",
       "4   RJ    0.704565\n",
       "5   PR    0.691950\n",
       "6   MS    0.687846\n",
       "7   GO    0.684041\n",
       "8   MT    0.682149\n",
       "9   ES    0.680628\n",
       "10  RO    0.658173\n",
       "11  MG    0.651966\n",
       "12  AP    0.618875\n",
       "13  TO    0.610496\n",
       "14  AC    0.585455\n",
       "15  RN    0.580395\n",
       "16  RR    0.577867\n",
       "17  SE    0.577147\n",
       "18  BA    0.574743\n",
       "19  PE    0.574378\n",
       "20  PA    0.572357\n",
       "21  PB    0.564381\n",
       "22  CE    0.559293\n",
       "23  AL    0.548363\n",
       "24  PI    0.546813\n",
       "25  AM    0.545113\n",
       "26  MA    0.531664"
      ]
     },
     "execution_count": 19,
     "metadata": {},
     "output_type": "execute_result"
    }
   ],
   "source": [
    "renda_by_UF_frame"
   ]
  },
  {
   "cell_type": "code",
   "execution_count": 36,
   "id": "0f2e032f",
   "metadata": {
    "extensions": {
     "jupyter_dashboards": {
      "version": 1,
      "views": {
       "grid_default": {},
       "report_default": {
        "hidden": true
       }
      }
     }
    }
   },
   "outputs": [],
   "source": [
    "renda_by_UF_frame = renda_by_UF_frame.sort_values(['IDHM_Renda'], ascending=False).reset_index(drop=True)"
   ]
  },
  {
   "cell_type": "code",
   "execution_count": 39,
   "id": "abc190f2",
   "metadata": {
    "extensions": {
     "jupyter_dashboards": {
      "version": 1,
      "views": {
       "grid_default": {},
       "report_default": {
        "hidden": false
       }
      }
     }
    }
   },
   "outputs": [
    {
     "data": {
      "image/png": "[encoded data removed]",
      "text/plain": [
       "<Figure size 1008x720 with 1 Axes>"
      ]
     },
     "metadata": {
      "needs_background": "light"
     },
     "output_type": "display_data"
    }
   ],
   "source": [
    "plt.figure(figsize=(14, 10))\n",
    "\n",
    "ax = sns.barplot(\n",
    "        x=\"IDHM_Renda\", \n",
    "        y=\"UF\", \n",
    "        data=renda_by_UF_frame, \n",
    "        ci=None, \n",
    "        color='#69b3a2')\n",
    "\n",
    "plt.xlabel('Renda', size=12, family='monospace', weight=800)\n",
    "plt.ylabel('UF', size=12, family='monospace', weight=800)\n",
    "plt.title('Renda por Unidade da federação', size=14, family='monospace', weight=1000)\n",
    "\n",
    "plt.show()"
   ]
  },
  {
   "cell_type": "code",
   "execution_count": null,
   "id": "427c2fc6",
   "metadata": {
    "extensions": {
     "jupyter_dashboards": {
      "version": 1,
      "views": {
       "grid_default": {},
       "report_default": {
        "hidden": true
       }
      }
     }
    }
   },
   "outputs": [],
   "source": []
  },
  {
   "cell_type": "code",
   "execution_count": 118,
   "id": "24df9590",
   "metadata": {},
   "outputs": [
    {
     "name": "stderr",
     "output_type": "stream",
     "text": [
      "C:\\Users\\user\\AppData\\Local\\Temp/ipykernel_7944/2375810931.py:1: FutureWarning: The default value of regex will change from True to False in a future version.\n",
      "  data_IDHM['Cidade'] = data_IDHM['Municipio'].str.replace(r\"\\(.*\\)\",\"\")\n"
     ]
    }
   ],
   "source": [
    "data_IDHM['Cidade'] = data_IDHM['Municipio'].str.replace(r\"\\(.*\\)\",\"\")"
   ]
  },
  {
   "cell_type": "code",
   "execution_count": 119,
   "id": "290ac9da",
   "metadata": {},
   "outputs": [
    {
     "data": {
      "text/html": [
       "<div>\n",
       "<style scoped>\n",
       "    .dataframe tbody tr th:only-of-type {\n",
       "        vertical-align: middle;\n",
       "    }\n",
       "\n",
       "    .dataframe tbody tr th {\n",
       "        vertical-align: top;\n",
       "    }\n",
       "\n",
       "    .dataframe thead th {\n",
       "        text-align: right;\n",
       "    }\n",
       "</style>\n",
       "<table border=\"1\" class=\"dataframe\">\n",
       "  <thead>\n",
       "    <tr style=\"text-align: right;\">\n",
       "      <th></th>\n",
       "      <th>Ranking_IDHM_2010</th>\n",
       "      <th>Municipio</th>\n",
       "      <th>IDHM</th>\n",
       "      <th>IDHM_Renda</th>\n",
       "      <th>IDHM_Longevidade</th>\n",
       "      <th>IDHM_Educacao</th>\n",
       "      <th>UF</th>\n",
       "      <th>Cidade</th>\n",
       "    </tr>\n",
       "  </thead>\n",
       "  <tbody>\n",
       "    <tr>\n",
       "      <th>0</th>\n",
       "      <td>1 º</td>\n",
       "      <td>São Caetano do Sul (SP)</td>\n",
       "      <td>0.862</td>\n",
       "      <td>0.891</td>\n",
       "      <td>0.887</td>\n",
       "      <td>0.811</td>\n",
       "      <td>SP</td>\n",
       "      <td>São Caetano do Sul</td>\n",
       "    </tr>\n",
       "    <tr>\n",
       "      <th>1</th>\n",
       "      <td>2 º</td>\n",
       "      <td>Águas de São Pedro (SP)</td>\n",
       "      <td>0.854</td>\n",
       "      <td>0.849</td>\n",
       "      <td>0.890</td>\n",
       "      <td>0.825</td>\n",
       "      <td>SP</td>\n",
       "      <td>Águas de São Pedro</td>\n",
       "    </tr>\n",
       "    <tr>\n",
       "      <th>2</th>\n",
       "      <td>3 º</td>\n",
       "      <td>Florianópolis (SC)</td>\n",
       "      <td>0.847</td>\n",
       "      <td>0.870</td>\n",
       "      <td>0.873</td>\n",
       "      <td>0.800</td>\n",
       "      <td>SC</td>\n",
       "      <td>Florianópolis</td>\n",
       "    </tr>\n",
       "    <tr>\n",
       "      <th>3</th>\n",
       "      <td>4 º</td>\n",
       "      <td>Balneário Camboriú (SC)</td>\n",
       "      <td>0.845</td>\n",
       "      <td>0.854</td>\n",
       "      <td>0.894</td>\n",
       "      <td>0.789</td>\n",
       "      <td>SC</td>\n",
       "      <td>Balneário Camboriú</td>\n",
       "    </tr>\n",
       "    <tr>\n",
       "      <th>4</th>\n",
       "      <td>4 º</td>\n",
       "      <td>Vitória (ES)</td>\n",
       "      <td>0.845</td>\n",
       "      <td>0.876</td>\n",
       "      <td>0.855</td>\n",
       "      <td>0.805</td>\n",
       "      <td>ES</td>\n",
       "      <td>Vitória</td>\n",
       "    </tr>\n",
       "    <tr>\n",
       "      <th>...</th>\n",
       "      <td>...</td>\n",
       "      <td>...</td>\n",
       "      <td>...</td>\n",
       "      <td>...</td>\n",
       "      <td>...</td>\n",
       "      <td>...</td>\n",
       "      <td>...</td>\n",
       "      <td>...</td>\n",
       "    </tr>\n",
       "    <tr>\n",
       "      <th>5560</th>\n",
       "      <td>5560 º</td>\n",
       "      <td>Uiramutã (RR)</td>\n",
       "      <td>0.453</td>\n",
       "      <td>0.439</td>\n",
       "      <td>0.766</td>\n",
       "      <td>0.276</td>\n",
       "      <td>RR</td>\n",
       "      <td>Uiramutã</td>\n",
       "    </tr>\n",
       "    <tr>\n",
       "      <th>5561</th>\n",
       "      <td>5562 º</td>\n",
       "      <td>Marajá do Sena (MA)</td>\n",
       "      <td>0.452</td>\n",
       "      <td>0.400</td>\n",
       "      <td>0.774</td>\n",
       "      <td>0.299</td>\n",
       "      <td>MA</td>\n",
       "      <td>Marajá do Sena</td>\n",
       "    </tr>\n",
       "    <tr>\n",
       "      <th>5562</th>\n",
       "      <td>5563 º</td>\n",
       "      <td>Atalaia do Norte (AM)</td>\n",
       "      <td>0.450</td>\n",
       "      <td>0.481</td>\n",
       "      <td>0.733</td>\n",
       "      <td>0.259</td>\n",
       "      <td>AM</td>\n",
       "      <td>Atalaia do Norte</td>\n",
       "    </tr>\n",
       "    <tr>\n",
       "      <th>5563</th>\n",
       "      <td>5564 º</td>\n",
       "      <td>Fernando Falcão (MA)</td>\n",
       "      <td>0.443</td>\n",
       "      <td>0.417</td>\n",
       "      <td>0.728</td>\n",
       "      <td>0.286</td>\n",
       "      <td>MA</td>\n",
       "      <td>Fernando Falcão</td>\n",
       "    </tr>\n",
       "    <tr>\n",
       "      <th>5564</th>\n",
       "      <td>5565 º</td>\n",
       "      <td>Melgaço (PA)</td>\n",
       "      <td>0.418</td>\n",
       "      <td>0.454</td>\n",
       "      <td>0.776</td>\n",
       "      <td>0.207</td>\n",
       "      <td>PA</td>\n",
       "      <td>Melgaço</td>\n",
       "    </tr>\n",
       "  </tbody>\n",
       "</table>\n",
       "<p>5565 rows × 8 columns</p>\n",
       "</div>"
      ],
      "text/plain": [
       "     Ranking_IDHM_2010                Municipio   IDHM  IDHM_Renda  \\\n",
       "0                  1 º  São Caetano do Sul (SP)  0.862       0.891   \n",
       "1                  2 º  Águas de São Pedro (SP)  0.854       0.849   \n",
       "2                  3 º       Florianópolis (SC)  0.847       0.870   \n",
       "3                  4 º  Balneário Camboriú (SC)  0.845       0.854   \n",
       "4                  4 º             Vitória (ES)  0.845       0.876   \n",
       "...                ...                      ...    ...         ...   \n",
       "5560            5560 º            Uiramutã (RR)  0.453       0.439   \n",
       "5561            5562 º      Marajá do Sena (MA)  0.452       0.400   \n",
       "5562            5563 º    Atalaia do Norte (AM)  0.450       0.481   \n",
       "5563            5564 º     Fernando Falcão (MA)  0.443       0.417   \n",
       "5564            5565 º             Melgaço (PA)  0.418       0.454   \n",
       "\n",
       "      IDHM_Longevidade  IDHM_Educacao  UF               Cidade  \n",
       "0                0.887          0.811  SP  São Caetano do Sul   \n",
       "1                0.890          0.825  SP  Águas de São Pedro   \n",
       "2                0.873          0.800  SC       Florianópolis   \n",
       "3                0.894          0.789  SC  Balneário Camboriú   \n",
       "4                0.855          0.805  ES             Vitória   \n",
       "...                ...            ...  ..                  ...  \n",
       "5560             0.766          0.276  RR            Uiramutã   \n",
       "5561             0.774          0.299  MA      Marajá do Sena   \n",
       "5562             0.733          0.259  AM    Atalaia do Norte   \n",
       "5563             0.728          0.286  MA     Fernando Falcão   \n",
       "5564             0.776          0.207  PA             Melgaço   \n",
       "\n",
       "[5565 rows x 8 columns]"
      ]
     },
     "execution_count": 119,
     "metadata": {},
     "output_type": "execute_result"
    }
   ],
   "source": [
    "data_IDHM"
   ]
  },
  {
   "cell_type": "code",
   "execution_count": 171,
   "id": "c99e5bf3",
   "metadata": {},
   "outputs": [],
   "source": [
    "df_IDHM_permitido = data_IDHM.loc[(data_IDHM['IDHM'] <= 0.599) & (data_IDHM['UF'] == 'MA'), ['IDHM', 'IDHM_Educacao', 'Cidade', 'UF']].sort_values(by='Cidade', ascending=False)"
   ]
  },
  {
   "cell_type": "code",
   "execution_count": 172,
   "id": "c472d1d5",
   "metadata": {
    "collapsed": true
   },
   "outputs": [
    {
     "data": {
      "text/plain": [
       "array(['Água Doce do Maranhão', 'Zé Doca', 'Vitória do Mearim',\n",
       "       'Vitorino Freire', 'Vila Nova dos Martírios', 'Vargem Grande',\n",
       "       'Urbano Santos', 'Tutóia', 'Turilândia', 'Turiaçu', 'Tuntum',\n",
       "       'Tufilândia', 'Timbiras', 'Tasso Fragoso', 'Sítio Novo',\n",
       "       'São Vicente Ferrer', 'São Roberto',\n",
       "       'São Raimundo do Doca Bezerra', 'São Luís Gonzaga do Maranhão',\n",
       "       'São João do Soter', 'São João do Carú', 'São João Batista',\n",
       "       'São José dos Basílios', 'São Félix de Balsas',\n",
       "       'São Francisco do Maranhão', 'São Francisco do Brejão',\n",
       "       'São Domingos do Maranhão', 'São Domingos do Azeitão',\n",
       "       'São Bernardo', 'São Benedito do Rio Preto', 'Sucupira do Riachão',\n",
       "       'Sucupira do Norte', 'Serrano do Maranhão',\n",
       "       'Senador Alexandre Costa', 'Satubinha', 'Santo Antônio dos Lopes',\n",
       "       'Santo Amaro do Maranhão', 'Santana do Maranhão',\n",
       "       'Santa Quitéria do Maranhão', 'Santa Luzia do Paruá',\n",
       "       'Santa Luzia', 'Santa Helena', 'Santa Filomena do Maranhão',\n",
       "       'Sambaíba', 'Riachão', 'Primeira Cruz', 'Presidente Vargas',\n",
       "       'Presidente Sarney', 'Presidente Médici', 'Presidente Juscelino',\n",
       "       'Poção de Pedras', 'Pirapemas', 'Pio Xii', 'Peritoró',\n",
       "       'Peri Mirim', 'Penalva', 'Pedro do Rosário', 'Paulo Ramos',\n",
       "       'Paulino Neves', 'Passagem Franca', 'Parnarama', 'Paraibano',\n",
       "       'Palmeirândia', 'Olinda Nova do Maranhão',\n",
       "       \"Olho D'Água das Cunhãs\", 'Nova Olinda do Maranhão', 'Nova Iorque',\n",
       "       'Nova Colinas', 'Nina Rodrigues', 'Morros', 'Monção',\n",
       "       'Montes Altos', 'Mirador', 'Milagres do Maranhão',\n",
       "       'Matões do Norte', 'Matões', 'Mata Roma', 'Maranhãozinho',\n",
       "       'Marajá do Sena', 'Maracaçumé', 'Magalhães de Almeida',\n",
       "       'Luís Domingues', 'Loreto', 'Lima Campos', 'Lajeado Novo',\n",
       "       'Lagoa do Mato', 'Lagoa Grande do Maranhão', 'Lago do Junco',\n",
       "       'Lago da Pedra', 'Lago Verde', 'Junco do Maranhão', 'Joselândia',\n",
       "       'Jenipapo dos Vieiras', 'Jatobá', 'Itapecuru Mirim',\n",
       "       'Itaipava do Grajaú', 'Igarapé do Meio', 'Icatu',\n",
       "       'Humberto de Campos', 'Graça Aranha', 'Governador Nunes Freire',\n",
       "       'Governador Newton Bello', 'Governador Luiz Rocha',\n",
       "       'Governador Eugênio Barros', 'Governador Archer', 'Gonçalves Dias',\n",
       "       'Fortuna', 'Formosa da Serra Negra', 'Fernando Falcão',\n",
       "       'Feira Nova do Maranhão', 'Esperantinópolis', 'Duque Bacelar',\n",
       "       'Cândido Mendes', 'Coroatá', 'Conceição do Lago-Açu', 'Colinas',\n",
       "       'Coelho Neto', 'Codó', 'Centro do Guilherme',\n",
       "       'Centro Novo do Maranhão', 'Central do Maranhão', 'Carutapera',\n",
       "       'Capinzal do Norte', 'Cantanhede', 'Cajari', 'Cajapió',\n",
       "       'Cachoeira Grande', 'Buritirana', 'Buriticupu', 'Buriti Bravo',\n",
       "       'Buriti', 'Brejo de Areia', 'Brejo', 'Bom Lugar',\n",
       "       'Bom Jesus das Selvas', 'Bom Jardim', 'Boa Vista do Gurupi',\n",
       "       'Benedito Leite', 'Belágua', 'Bela Vista do Maranhão',\n",
       "       'Barão de Grajaú', 'Barreirinhas', 'Bacurituba', 'Bacuri', 'Arame',\n",
       "       'Araioses', 'Araguanã', 'Apicum-Açu', 'Anapurus', 'Anajatuba',\n",
       "       'Amarante do Maranhão', 'Amapá do Maranhão',\n",
       "       'Alto Alegre do Pindaré', 'Alto Alegre do Maranhão',\n",
       "       'Altamira do Maranhão', 'Aldeias Altas', 'Alcântara',\n",
       "       'Afonso Cunha'], dtype=object)"
      ]
     },
     "execution_count": 172,
     "metadata": {},
     "output_type": "execute_result"
    }
   ],
   "source": [
    "df_IDHM_permitido['Cidade'] = df_IDHM_permitido['Cidade'].str.rstrip()\n",
    "df_IDHM_permitido['Cidade'].unique()"
   ]
  },
  {
   "cell_type": "code",
   "execution_count": null,
   "id": "592edade",
   "metadata": {},
   "outputs": [],
   "source": []
  },
  {
   "cell_type": "code",
   "execution_count": 173,
   "id": "be54ebba",
   "metadata": {},
   "outputs": [],
   "source": [
    "escolas = ['SG_UF', 'NO_MUNICIPIO', 'NO_ENTIDADE', 'TP_DEPENDENCIA', 'TP_LOCALIZACAO']\n",
    "df_escolas = pd.read_csv('datasets/microdados_ed_basica_2021.csv', sep=\";\", encoding=\"latin-1\", usecols=escolas)"
   ]
  },
  {
   "cell_type": "code",
   "execution_count": 174,
   "id": "656202b1",
   "metadata": {},
   "outputs": [],
   "source": [
    "df_EE_selecionadas = df_escolas.loc[(df_escolas['SG_UF'] == 'MA') & (df_escolas['TP_LOCALIZACAO'] == 1) & (df_escolas['TP_DEPENDENCIA'] == 2), escolas]\n",
    "df_EE_Rural_selecionadas = df_escolas.loc[(df_escolas['SG_UF'] == 'MA') & (df_escolas['TP_LOCALIZACAO'] == 2) & (df_escolas['TP_DEPENDENCIA'] == 2), escolas]\n",
    "df_EM_selecionadas = df_escolas.loc[(df_escolas['SG_UF'] == 'MA') & (df_escolas['TP_LOCALIZACAO'] == 1) & (df_escolas['TP_DEPENDENCIA'] == 3), escolas]\n",
    "df_EM_Rural_selecionadas = df_escolas.loc[(df_escolas['SG_UF'] == 'MA') & (df_escolas['TP_LOCALIZACAO'] == 2) & (df_escolas['TP_DEPENDENCIA'] == 3), escolas]\n"
   ]
  },
  {
   "cell_type": "code",
   "execution_count": 175,
   "id": "89150229",
   "metadata": {},
   "outputs": [],
   "source": [
    "df_EE_selecionadas['NO_MUNICIPIO'] = df_EE_selecionadas['NO_MUNICIPIO'].str.rstrip()\n",
    "df_EE_Rural_selecionadas['NO_MUNICIPIO'] = df_EE_Rural_selecionadas['NO_MUNICIPIO'].str.rstrip()\n",
    "df_EM_selecionadas['NO_MUNICIPIO'] = df_EM_selecionadas['NO_MUNICIPIO'].str.rstrip()\n",
    "df_EM_Rural_selecionadas['NO_MUNICIPIO'] = df_EM_Rural_selecionadas['NO_MUNICIPIO'].str.rstrip()\n"
   ]
  },
  {
   "cell_type": "code",
   "execution_count": 144,
   "id": "2e2a1e95",
   "metadata": {
    "collapsed": true
   },
   "outputs": [
    {
     "data": {
      "text/plain": [
       "array(['Açailândia', 'Afonso Cunha', 'Água Doce do Maranhão', 'Alcântara',\n",
       "       'Aldeias Altas', 'Altamira do Maranhão', 'Alto Alegre do Maranhão',\n",
       "       'Alto Alegre do Pindaré', 'Alto Parnaíba', 'Amapá do Maranhão',\n",
       "       'Amarante do Maranhão', 'Anajatuba', 'Anapurus', 'Apicum-Açu',\n",
       "       'Araguanã', 'Araioses', 'Arame', 'Arari', 'Axixá', 'Bacabal',\n",
       "       'Bacabeira', 'Bacuri', 'Bacurituba', 'Balsas', 'Barão de Grajaú',\n",
       "       'Barra do Corda', 'Barreirinhas', 'Belágua',\n",
       "       'Bela Vista do Maranhão', 'Benedito Leite', 'Bequimão',\n",
       "       'Bernardo do Mearim', 'Boa Vista do Gurupi', 'Bom Jardim',\n",
       "       'Bom Jesus das Selvas', 'Bom Lugar', 'Brejo', 'Brejo de Areia',\n",
       "       'Buriti', 'Buriti Bravo', 'Buriticupu', 'Buritirana',\n",
       "       'Cachoeira Grande', 'Cajapió', 'Cajari', 'Campestre do Maranhão',\n",
       "       'Cândido Mendes', 'Cantanhede', 'Capinzal do Norte', 'Carolina',\n",
       "       'Carutapera', 'Caxias', 'Cedral', 'Central do Maranhão',\n",
       "       'Centro do Guilherme', 'Centro Novo do Maranhão', 'Chapadinha',\n",
       "       'Cidelândia', 'Codó', 'Coelho Neto', 'Colinas',\n",
       "       'Conceição do Lago-Açu', 'Coroatá', 'Cururupu', 'Davinópolis',\n",
       "       'Dom Pedro', 'Duque Bacelar', 'Esperantinópolis', 'Estreito',\n",
       "       'Feira Nova do Maranhão', 'Fernando Falcão',\n",
       "       'Formosa da Serra Negra', 'Fortaleza dos Nogueiras', 'Fortuna',\n",
       "       'Godofredo Viana', 'Gonçalves Dias', 'Governador Archer',\n",
       "       'Governador Edison Lobão', 'Governador Eugênio Barros',\n",
       "       'Governador Luiz Rocha', 'Governador Newton Bello',\n",
       "       'Governador Nunes Freire', 'Graça Aranha', 'Grajaú', 'Guimarães',\n",
       "       'Humberto de Campos', 'Icatu', 'Igarapé do Meio', 'Igarapé Grande',\n",
       "       'Imperatriz', 'Itaipava do Grajaú', 'Itapecuru Mirim',\n",
       "       'Itinga do Maranhão', 'Jatobá', 'Jenipapo dos Vieiras',\n",
       "       'João Lisboa', 'Joselândia', 'Junco do Maranhão', 'Lago da Pedra',\n",
       "       'Lago do Junco', 'Lago Verde', 'Lagoa do Mato',\n",
       "       'Lago dos Rodrigues', 'Lagoa Grande do Maranhão', 'Lajeado Novo',\n",
       "       'Lima Campos', 'Loreto', 'Luís Domingues', 'Magalhães de Almeida',\n",
       "       'Maracaçumé', 'Marajá do Sena', 'Maranhãozinho', 'Mata Roma',\n",
       "       'Matinha', 'Matões', 'Matões do Norte', 'Milagres do Maranhão',\n",
       "       'Mirador', 'Miranda do Norte', 'Mirinzal', 'Monção',\n",
       "       'Montes Altos', 'Morros', 'Nina Rodrigues', 'Nova Colinas',\n",
       "       'Nova Iorque', 'Nova Olinda do Maranhão', \"Olho d'Água das Cunhãs\",\n",
       "       'Olinda Nova do Maranhão', 'Paço do Lumiar', 'Palmeirândia',\n",
       "       'Paraibano', 'Parnarama', 'Passagem Franca', 'Pastos Bons',\n",
       "       'Paulino Neves', 'Paulo Ramos', 'Pedreiras', 'Pedro do Rosário',\n",
       "       'Penalva', 'Peri Mirim', 'Peritoró', 'Pindaré-Mirim', 'Pinheiro',\n",
       "       'Pio XII', 'Pirapemas', 'Poção de Pedras', 'Porto Franco',\n",
       "       'Porto Rico do Maranhão', 'Presidente Dutra',\n",
       "       'Presidente Juscelino', 'Presidente Médici', 'Presidente Sarney',\n",
       "       'Presidente Vargas', 'Primeira Cruz', 'Raposa', 'Riachão',\n",
       "       'Ribamar Fiquene', 'Rosário', 'Sambaíba',\n",
       "       'Santa Filomena do Maranhão', 'Santa Helena', 'Santa Inês',\n",
       "       'Santa Luzia', 'Santa Luzia do Paruá',\n",
       "       'Santa Quitéria do Maranhão', 'Santa Rita', 'Santana do Maranhão',\n",
       "       'Santo Amaro do Maranhão', 'Santo Antônio dos Lopes',\n",
       "       'São Benedito do Rio Preto', 'São Bento', 'São Bernardo',\n",
       "       'São Domingos do Azeitão', 'São Domingos do Maranhão',\n",
       "       'São Félix de Balsas', 'São Francisco do Brejão',\n",
       "       'São Francisco do Maranhão', 'São João Batista',\n",
       "       'São João do Carú', 'São João do Paraíso', 'São João do Soter',\n",
       "       'São João dos Patos', 'São José de Ribamar',\n",
       "       'São José dos Basílios', 'São Luís',\n",
       "       'São Luís Gonzaga do Maranhão', 'São Mateus do Maranhão',\n",
       "       'São Pedro da Água Branca', 'São Pedro dos Crentes',\n",
       "       'São Raimundo das Mangabeiras', 'São Raimundo do Doca Bezerra',\n",
       "       'São Roberto', 'São Vicente Ferrer', 'Satubinha',\n",
       "       'Senador Alexandre Costa', 'Senador La Rocque',\n",
       "       'Serrano do Maranhão', 'Sítio Novo', 'Sucupira do Norte',\n",
       "       'Sucupira do Riachão', 'Tasso Fragoso', 'Timbiras', 'Timon',\n",
       "       'Trizidela do Vale', 'Tufilândia', 'Tuntum', 'Turiaçu',\n",
       "       'Turilândia', 'Tutóia', 'Urbano Santos', 'Vargem Grande', 'Viana',\n",
       "       'Vila Nova dos Martírios', 'Vitória do Mearim', 'Vitorino Freire',\n",
       "       'Zé Doca'], dtype=object)"
      ]
     },
     "execution_count": 144,
     "metadata": {},
     "output_type": "execute_result"
    }
   ],
   "source": [
    "df_EE_selecionadas['NO_MUNICIPIO'].unique()"
   ]
  },
  {
   "cell_type": "code",
   "execution_count": 176,
   "id": "f01f6686",
   "metadata": {},
   "outputs": [],
   "source": [
    "df_EE_selecionadas.columns = ['UF', 'Cidade', 'Nome_escola', 'TP_DEPENDENCIA', 'TP_LOCALIZACAO']\n",
    "df_EE_Rural_selecionadas.columns = ['UF', 'Cidade', 'Nome_escola', 'TP_DEPENDENCIA', 'TP_LOCALIZACAO']\n",
    "df_EM_selecionadas.columns = ['UF', 'Cidade', 'Nome_escola', 'TP_DEPENDENCIA', 'TP_LOCALIZACAO']\n",
    "df_EM_Rural_selecionadas.columns = ['UF', 'Cidade', 'Nome_escola', 'TP_DEPENDENCIA', 'TP_LOCALIZACAO']\n",
    "\n",
    "\n"
   ]
  },
  {
   "cell_type": "code",
   "execution_count": null,
   "id": "a320f09f",
   "metadata": {},
   "outputs": [],
   "source": []
  },
  {
   "cell_type": "code",
   "execution_count": 177,
   "id": "1fc6f9e0",
   "metadata": {},
   "outputs": [],
   "source": [
    "df_EE_selecionadas_IDHM = df_EE_selecionadas.loc[df_EE_selecionadas['Cidade'].isin(df_IDHM_permitido['Cidade'])]\n",
    "df_EE_Rural_selecionadas_IDHM = df_EE_Rural_selecionadas.loc[df_EE_Rural_selecionadas['Cidade'].isin(df_IDHM_permitido['Cidade'])]\n",
    "df_EM_selecionadas_IDHM = df_EM_selecionadas.loc[df_EM_selecionadas['Cidade'].isin(df_IDHM_permitido['Cidade'])]\n",
    "df_EM_Rural_selecionadas_IDHM = df_EM_Rural_selecionadas.loc[df_EM_Rural_selecionadas['Cidade'].isin(df_IDHM_permitido['Cidade'])]\n",
    "\n",
    "\n"
   ]
  },
  {
   "cell_type": "code",
   "execution_count": 170,
   "id": "b0dc9f4a",
   "metadata": {
    "collapsed": true
   },
   "outputs": [
    {
     "data": {
      "text/plain": [
       "array(['Afonso Cunha', 'Água Doce do Maranhão', 'Alcântara',\n",
       "       'Aldeias Altas', 'Altamira do Maranhão', 'Alto Alegre do Maranhão',\n",
       "       'Alto Alegre do Pindaré', 'Amapá do Maranhão',\n",
       "       'Amarante do Maranhão', 'Anajatuba', 'Anapurus', 'Apicum-Açu',\n",
       "       'Araguanã', 'Araioses', 'Arame', 'Bacuri', 'Bacurituba',\n",
       "       'Barão de Grajaú', 'Barreirinhas', 'Belágua',\n",
       "       'Bela Vista do Maranhão', 'Benedito Leite', 'Boa Vista do Gurupi',\n",
       "       'Bom Jardim', 'Bom Jesus das Selvas', 'Bom Lugar', 'Brejo',\n",
       "       'Brejo de Areia', 'Buriti', 'Buriti Bravo', 'Buriticupu',\n",
       "       'Buritirana', 'Cachoeira Grande', 'Cajapió', 'Cajari',\n",
       "       'Cândido Mendes', 'Cantanhede', 'Capinzal do Norte', 'Carutapera',\n",
       "       'Central do Maranhão', 'Centro do Guilherme',\n",
       "       'Centro Novo do Maranhão', 'Codó', 'Coelho Neto', 'Colinas',\n",
       "       'Conceição do Lago-Açu', 'Coroatá', 'Duque Bacelar',\n",
       "       'Esperantinópolis', 'Feira Nova do Maranhão', 'Fernando Falcão',\n",
       "       'Formosa da Serra Negra', 'Fortuna', 'Gonçalves Dias',\n",
       "       'Governador Archer', 'Governador Eugênio Barros',\n",
       "       'Governador Luiz Rocha', 'Governador Newton Bello',\n",
       "       'Governador Nunes Freire', 'Graça Aranha', 'Humberto de Campos',\n",
       "       'Icatu', 'Igarapé do Meio', 'Itaipava do Grajaú',\n",
       "       'Itapecuru Mirim', 'Jatobá', 'Jenipapo dos Vieiras', 'Joselândia',\n",
       "       'Junco do Maranhão', 'Lago da Pedra', 'Lago do Junco',\n",
       "       'Lago Verde', 'Lagoa do Mato', 'Lagoa Grande do Maranhão',\n",
       "       'Lajeado Novo', 'Lima Campos', 'Loreto', 'Luís Domingues',\n",
       "       'Magalhães de Almeida', 'Maracaçumé', 'Marajá do Sena',\n",
       "       'Maranhãozinho', 'Mata Roma', 'Matões', 'Matões do Norte',\n",
       "       'Milagres do Maranhão', 'Mirador', 'Monção', 'Montes Altos',\n",
       "       'Morros', 'Nina Rodrigues', 'Nova Colinas', 'Nova Iorque',\n",
       "       'Nova Olinda do Maranhão', 'Olinda Nova do Maranhão',\n",
       "       'Palmeirândia', 'Paraibano', 'Parnarama', 'Passagem Franca',\n",
       "       'Paulino Neves', 'Paulo Ramos', 'Pedro do Rosário', 'Penalva',\n",
       "       'Peri Mirim', 'Peritoró', 'Pirapemas', 'Poção de Pedras',\n",
       "       'Presidente Juscelino', 'Presidente Médici', 'Presidente Sarney',\n",
       "       'Presidente Vargas', 'Primeira Cruz', 'Riachão', 'Sambaíba',\n",
       "       'Santa Filomena do Maranhão', 'Santa Helena', 'Santa Luzia',\n",
       "       'Santa Luzia do Paruá', 'Santa Quitéria do Maranhão',\n",
       "       'Santana do Maranhão', 'Santo Amaro do Maranhão',\n",
       "       'Santo Antônio dos Lopes', 'São Benedito do Rio Preto',\n",
       "       'São Bernardo', 'São Domingos do Azeitão',\n",
       "       'São Domingos do Maranhão', 'São Félix de Balsas',\n",
       "       'São Francisco do Brejão', 'São Francisco do Maranhão',\n",
       "       'São João Batista', 'São João do Carú', 'São João do Soter',\n",
       "       'São José dos Basílios', 'São Luís Gonzaga do Maranhão',\n",
       "       'São Raimundo do Doca Bezerra', 'São Roberto',\n",
       "       'São Vicente Ferrer', 'Satubinha', 'Senador Alexandre Costa',\n",
       "       'Serrano do Maranhão', 'Sítio Novo', 'Sucupira do Norte',\n",
       "       'Sucupira do Riachão', 'Tasso Fragoso', 'Timbiras', 'Tufilândia',\n",
       "       'Tuntum', 'Turiaçu', 'Turilândia', 'Tutóia', 'Urbano Santos',\n",
       "       'Vargem Grande', 'Vila Nova dos Martírios', 'Vitória do Mearim',\n",
       "       'Vitorino Freire', 'Zé Doca'], dtype=object)"
      ]
     },
     "execution_count": 170,
     "metadata": {},
     "output_type": "execute_result"
    }
   ],
   "source": [
    "df_EM_Rural_selecionadas_IDHM['Cidade'].unique()"
   ]
  },
  {
   "cell_type": "code",
   "execution_count": null,
   "id": "8d7b49a1",
   "metadata": {},
   "outputs": [],
   "source": []
  },
  {
   "cell_type": "code",
   "execution_count": 178,
   "id": "e1256e5d",
   "metadata": {},
   "outputs": [],
   "source": [
    "df_EE_selecionadas_IDHM.to_excel('Escolas_Estaduais.xlsx', index=False)\n",
    "df_EE_Rural_selecionadas_IDHM.to_excel('Escolas_Estaduais_Rurais.xlsx', index=False)\n",
    "df_EM_selecionadas_IDHM.to_excel('Escolas_Municipais.xlsx', index=False)\n",
    "df_EM_Rural_selecionadas_IDHM.to_excel('Escolas_Municipais_Rurais.xlsx', index=False)"
   ]
  },
  {
   "cell_type": "code",
   "execution_count": null,
   "id": "efc2bf7c",
   "metadata": {},
   "outputs": [],
   "source": []
  }
 ],
 "metadata": {
  "extensions": {
   "jupyter_dashboards": {
    "activeView": "report_default",
    "version": 1,
    "views": {
     "grid_default": {
      "name": "grid",
      "type": "grid"
     },
     "report_default": {
      "name": "report",
      "type": "report"
     }
    }
   }
  },
  "kernelspec": {
   "display_name": "Python 3 (ipykernel)",
   "language": "python",
   "name": "python3"
  },
  "language_info": {
   "codemirror_mode": {
    "name": "ipython",
    "version": 3
   },
   "file_extension": ".py",
   "mimetype": "text/x-python",
   "name": "python",
   "nbconvert_exporter": "python",
   "pygments_lexer": "ipython3",
   "version": "3.9.7"
  }
 },
 "nbformat": 4,
 "nbformat_minor": 5
}
