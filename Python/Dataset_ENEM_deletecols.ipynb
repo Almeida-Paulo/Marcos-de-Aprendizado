{
 "cells": [
  {
   "cell_type": "code",
   "execution_count": 24,
   "id": "d4c51134",
   "metadata": {},
   "outputs": [],
   "source": [
    "import pandas as pd\n",
    "import numpy as np\n"
   ]
  },
  {
   "cell_type": "code",
   "execution_count": 32,
   "id": "e7933a11",
   "metadata": {},
   "outputs": [
    {
     "data": {
      "text/plain": [
       "NU_INSCRICAO    False\n",
       "dtype: bool"
      ]
     },
     "execution_count": 32,
     "metadata": {},
     "output_type": "execute_result"
    }
   ],
   "source": [
    "inscritos_ENEM = ['NU_INSCRICAO']\n",
    "df_inscritos = pd.read_csv('datasets/MICRODADOS_ENEM_2020.csv', sep=\";\", encoding=\"ISO-8859-1\", usecols=inscritos_ENEM)\n",
    "df_inscritos.isna().any()"
   ]
  },
  {
   "cell_type": "code",
   "execution_count": 19,
   "id": "dbea8e42",
   "metadata": {},
   "outputs": [
    {
     "data": {
      "text/plain": [
       "(5783109, 1)"
      ]
     },
     "execution_count": 19,
     "metadata": {},
     "output_type": "execute_result"
    }
   ],
   "source": [
    "df_inscritos.shape"
   ]
  },
  {
   "cell_type": "code",
   "execution_count": null,
   "id": "5a3b18e0",
   "metadata": {},
   "outputs": [],
   "source": [
    "#enem_2020 = ['TP_LINGUA', 'TP_FAIXA_ETARIA', 'TP_SEXO', 'NO_MUNICIPIO_ESC', 'SG_UF_ESC', 'TP_DEPENDENCIA_ADM_ESC', 'TP_LOCALIZACAO_ESC', 'NO_MUNICIPIO_PROVA', 'SG_UF_PROVA']\n",
    "#data_ENEM = pd.read_csv('datasets/MICRODADOS_ENEM_2020.csv', sep=\";\", encoding=\"ISO-8859-1\", usecols=enem_2020)"
   ]
  },
  {
   "cell_type": "code",
   "execution_count": 98,
   "id": "a74edd83",
   "metadata": {},
   "outputs": [],
   "source": [
    "notas_ENEM = ['NU_NOTA_CN', 'NU_NOTA_CH', 'NU_NOTA_LC', 'NU_NOTA_MT', 'NU_NOTA_REDACAO']\n",
    "df_notas = pd.read_csv('datasets/MICRODADOS_ENEM_2020.csv', sep=\";\", encoding=\"ISO-8859-1\", usecols=notas_ENEM)"
   ]
  },
  {
   "cell_type": "code",
   "execution_count": 99,
   "id": "15b941a7",
   "metadata": {},
   "outputs": [
    {
     "data": {
      "text/plain": [
       "NU_NOTA_CN         True\n",
       "NU_NOTA_CH         True\n",
       "NU_NOTA_LC         True\n",
       "NU_NOTA_MT         True\n",
       "NU_NOTA_REDACAO    True\n",
       "dtype: bool"
      ]
     },
     "execution_count": 99,
     "metadata": {},
     "output_type": "execute_result"
    }
   ],
   "source": [
    "df_notas.isna().any()"
   ]
  },
  {
   "cell_type": "code",
   "execution_count": null,
   "id": "6dcb7f93",
   "metadata": {},
   "outputs": [],
   "source": []
  },
  {
   "cell_type": "code",
   "execution_count": 105,
   "id": "0db6238e",
   "metadata": {},
   "outputs": [
    {
     "data": {
      "text/plain": [
       "NU_NOTA_CN         55.085751\n",
       "NU_NOTA_CH         52.376135\n",
       "NU_NOTA_LC         52.376135\n",
       "NU_NOTA_MT         55.085751\n",
       "NU_NOTA_REDACAO    52.376135\n",
       "dtype: float64"
      ]
     },
     "execution_count": 105,
     "metadata": {},
     "output_type": "execute_result"
    }
   ],
   "source": [
    "(df_notas.isnull().sum() / df_notas.shape[0])*100"
   ]
  },
  {
   "cell_type": "code",
   "execution_count": 104,
   "id": "cc0e8d5b",
   "metadata": {},
   "outputs": [
    {
     "data": {
      "text/plain": [
       "5783109"
      ]
     },
     "execution_count": 104,
     "metadata": {},
     "output_type": "execute_result"
    }
   ],
   "source": [
    "df_notas.shape[0]"
   ]
  },
  {
   "cell_type": "code",
   "execution_count": null,
   "id": "e79b9c1a",
   "metadata": {},
   "outputs": [],
   "source": []
  },
  {
   "cell_type": "code",
   "execution_count": null,
   "id": "9561784a",
   "metadata": {},
   "outputs": [],
   "source": []
  },
  {
   "cell_type": "code",
   "execution_count": 36,
   "id": "9f97effd",
   "metadata": {},
   "outputs": [],
   "source": [
    "df_notas.dropna(axis=0, subset=['NU_NOTA_CN', 'NU_NOTA_CH', 'NU_NOTA_LC', 'NU_NOTA_MT', 'NU_NOTA_REDACAO'], inplace=True)"
   ]
  },
  {
   "cell_type": "code",
   "execution_count": 48,
   "id": "80954f2e",
   "metadata": {},
   "outputs": [
    {
     "data": {
      "text/plain": [
       "520.7272992307676"
      ]
     },
     "execution_count": 48,
     "metadata": {},
     "output_type": "execute_result"
    }
   ],
   "source": [
    "df_notas['NU_NOTA_MT'].mean()"
   ]
  },
  {
   "cell_type": "code",
   "execution_count": null,
   "id": "53ff2647",
   "metadata": {},
   "outputs": [],
   "source": []
  },
  {
   "cell_type": "code",
   "execution_count": 115,
   "id": "5c818688",
   "metadata": {},
   "outputs": [],
   "source": [
    "escolas = ['SG_UF', 'NO_MUNICIPIO', 'NO_ENTIDADE', 'TP_DEPENDENCIA', 'TP_LOCALIZACAO']\n",
    "df_escolas = pd.read_csv('datasets/microdados_ed_basica_2021.csv', sep=\";\", encoding=\"latin-1\", usecols=escolas)"
   ]
  },
  {
   "cell_type": "code",
   "execution_count": 116,
   "id": "d9c0f48a",
   "metadata": {},
   "outputs": [],
   "source": [
    "df_escolas_selecionadas = df_escolas.loc[(df_escolas['SG_UF'] == 'MA') & (df_escolas['TP_LOCALIZACAO'] == 1) & (df_escolas['TP_DEPENDENCIA'] != 4), escolas]"
   ]
  },
  {
   "cell_type": "code",
   "execution_count": 117,
   "id": "775adcf5",
   "metadata": {},
   "outputs": [],
   "source": [
    "df_EE_selecionadas = df_escolas.loc[(df_escolas['SG_UF'] == 'MA') & (df_escolas['TP_LOCALIZACAO'] == 1) & (df_escolas['TP_DEPENDENCIA'] == 2), escolas]"
   ]
  },
  {
   "cell_type": "code",
   "execution_count": 118,
   "id": "beccb22f",
   "metadata": {},
   "outputs": [],
   "source": [
    "df_EE_Rural_selecionadas = df_escolas.loc[(df_escolas['SG_UF'] == 'MA') & (df_escolas['TP_LOCALIZACAO'] == 2) & (df_escolas['TP_DEPENDENCIA'] == 2), escolas]"
   ]
  },
  {
   "cell_type": "code",
   "execution_count": 119,
   "id": "7e148e39",
   "metadata": {},
   "outputs": [],
   "source": [
    "df_EM_selecionadas = df_escolas.loc[(df_escolas['SG_UF'] == 'MA') & (df_escolas['TP_LOCALIZACAO'] == 1) & (df_escolas['TP_DEPENDENCIA'] == 3), escolas]"
   ]
  },
  {
   "cell_type": "code",
   "execution_count": 120,
   "id": "080870d8",
   "metadata": {},
   "outputs": [],
   "source": [
    "df_EM_Rural_selecionadas = df_escolas.loc[(df_escolas['SG_UF'] == 'MA') & (df_escolas['TP_LOCALIZACAO'] == 2) & (df_escolas['TP_DEPENDENCIA'] == 3), escolas]"
   ]
  },
  {
   "cell_type": "code",
   "execution_count": 123,
   "id": "13468165",
   "metadata": {},
   "outputs": [
    {
     "data": {
      "text/html": [
       "<div>\n",
       "<style scoped>\n",
       "    .dataframe tbody tr th:only-of-type {\n",
       "        vertical-align: middle;\n",
       "    }\n",
       "\n",
       "    .dataframe tbody tr th {\n",
       "        vertical-align: top;\n",
       "    }\n",
       "\n",
       "    .dataframe thead th {\n",
       "        text-align: right;\n",
       "    }\n",
       "</style>\n",
       "<table border=\"1\" class=\"dataframe\">\n",
       "  <thead>\n",
       "    <tr style=\"text-align: right;\">\n",
       "      <th></th>\n",
       "      <th>SG_UF</th>\n",
       "      <th>NO_MUNICIPIO</th>\n",
       "      <th>NO_ENTIDADE</th>\n",
       "      <th>TP_DEPENDENCIA</th>\n",
       "      <th>TP_LOCALIZACAO</th>\n",
       "    </tr>\n",
       "  </thead>\n",
       "  <tbody>\n",
       "    <tr>\n",
       "      <th>26101</th>\n",
       "      <td>MA</td>\n",
       "      <td>Açailândia</td>\n",
       "      <td>EM MARIO CABRAL DE MELO</td>\n",
       "      <td>3</td>\n",
       "      <td>2</td>\n",
       "    </tr>\n",
       "    <tr>\n",
       "      <th>26104</th>\n",
       "      <td>MA</td>\n",
       "      <td>Açailândia</td>\n",
       "      <td>EM ANTONIO ALVES MOREIRA</td>\n",
       "      <td>3</td>\n",
       "      <td>2</td>\n",
       "    </tr>\n",
       "    <tr>\n",
       "      <th>26105</th>\n",
       "      <td>MA</td>\n",
       "      <td>Açailândia</td>\n",
       "      <td>EM ANTONIO FERREIRA</td>\n",
       "      <td>3</td>\n",
       "      <td>2</td>\n",
       "    </tr>\n",
       "    <tr>\n",
       "      <th>26108</th>\n",
       "      <td>MA</td>\n",
       "      <td>Açailândia</td>\n",
       "      <td>EM DIVINA PROVIDENCIA</td>\n",
       "      <td>3</td>\n",
       "      <td>2</td>\n",
       "    </tr>\n",
       "    <tr>\n",
       "      <th>26111</th>\n",
       "      <td>MA</td>\n",
       "      <td>Açailândia</td>\n",
       "      <td>EM JUSTINO GUSMAO DE OLIVEIRA</td>\n",
       "      <td>3</td>\n",
       "      <td>2</td>\n",
       "    </tr>\n",
       "    <tr>\n",
       "      <th>...</th>\n",
       "      <td>...</td>\n",
       "      <td>...</td>\n",
       "      <td>...</td>\n",
       "      <td>...</td>\n",
       "      <td>...</td>\n",
       "    </tr>\n",
       "    <tr>\n",
       "      <th>40233</th>\n",
       "      <td>MA</td>\n",
       "      <td>Zé Doca</td>\n",
       "      <td>EM PIO XII</td>\n",
       "      <td>3</td>\n",
       "      <td>2</td>\n",
       "    </tr>\n",
       "    <tr>\n",
       "      <th>40235</th>\n",
       "      <td>MA</td>\n",
       "      <td>Zé Doca</td>\n",
       "      <td>EM SAO JOAO BATISTA</td>\n",
       "      <td>3</td>\n",
       "      <td>2</td>\n",
       "    </tr>\n",
       "    <tr>\n",
       "      <th>40236</th>\n",
       "      <td>MA</td>\n",
       "      <td>Zé Doca</td>\n",
       "      <td>EM PRINCESA CALDAS</td>\n",
       "      <td>3</td>\n",
       "      <td>2</td>\n",
       "    </tr>\n",
       "    <tr>\n",
       "      <th>40238</th>\n",
       "      <td>MA</td>\n",
       "      <td>Zé Doca</td>\n",
       "      <td>EM NOSSA VITORIA</td>\n",
       "      <td>3</td>\n",
       "      <td>2</td>\n",
       "    </tr>\n",
       "    <tr>\n",
       "      <th>40239</th>\n",
       "      <td>MA</td>\n",
       "      <td>Zé Doca</td>\n",
       "      <td>EM SANTA CLARA</td>\n",
       "      <td>3</td>\n",
       "      <td>2</td>\n",
       "    </tr>\n",
       "  </tbody>\n",
       "</table>\n",
       "<p>8638 rows × 5 columns</p>\n",
       "</div>"
      ],
      "text/plain": [
       "      SG_UF NO_MUNICIPIO                    NO_ENTIDADE  TP_DEPENDENCIA  \\\n",
       "26101    MA   Açailândia        EM MARIO CABRAL DE MELO               3   \n",
       "26104    MA   Açailândia       EM ANTONIO ALVES MOREIRA               3   \n",
       "26105    MA   Açailândia            EM ANTONIO FERREIRA               3   \n",
       "26108    MA   Açailândia          EM DIVINA PROVIDENCIA               3   \n",
       "26111    MA   Açailândia  EM JUSTINO GUSMAO DE OLIVEIRA               3   \n",
       "...     ...          ...                            ...             ...   \n",
       "40233    MA      Zé Doca                     EM PIO XII               3   \n",
       "40235    MA      Zé Doca            EM SAO JOAO BATISTA               3   \n",
       "40236    MA      Zé Doca             EM PRINCESA CALDAS               3   \n",
       "40238    MA      Zé Doca               EM NOSSA VITORIA               3   \n",
       "40239    MA      Zé Doca                 EM SANTA CLARA               3   \n",
       "\n",
       "       TP_LOCALIZACAO  \n",
       "26101               2  \n",
       "26104               2  \n",
       "26105               2  \n",
       "26108               2  \n",
       "26111               2  \n",
       "...               ...  \n",
       "40233               2  \n",
       "40235               2  \n",
       "40236               2  \n",
       "40238               2  \n",
       "40239               2  \n",
       "\n",
       "[8638 rows x 5 columns]"
      ]
     },
     "execution_count": 123,
     "metadata": {},
     "output_type": "execute_result"
    }
   ],
   "source": [
    "df_EM_Rural_selecionadas"
   ]
  },
  {
   "cell_type": "code",
   "execution_count": 91,
   "id": "a853febe",
   "metadata": {},
   "outputs": [],
   "source": [
    "df_EE_selecionadas.to_excel('Escolas_Estaduais.xlsx', index=False)\n",
    "df_EE_Rural_selecionadas.to_excel('Escolas_Estaduais_Rurais.xlsx', index=False)\n",
    "df_EM_selecionadas.to_excel('Escolas_Municipais.xlsx', index=False)\n",
    "df_EM_Rural_selecionadas.to_excel('Escolas_Municipais_Rurais.xlsx', index=False)"
   ]
  },
  {
   "cell_type": "markdown",
   "id": "bc40bcc1",
   "metadata": {},
   "source": [
    "# Missing"
   ]
  },
  {
   "cell_type": "code",
   "execution_count": 97,
   "id": "ef3d9626",
   "metadata": {},
   "outputs": [
    {
     "data": {
      "text/plain": [
       "SG_UF             0\n",
       "NO_MUNICIPIO      0\n",
       "NO_ENTIDADE       0\n",
       "TP_DEPENDENCIA    0\n",
       "TP_LOCALIZACAO    0\n",
       "dtype: int64"
      ]
     },
     "execution_count": 97,
     "metadata": {},
     "output_type": "execute_result"
    }
   ],
   "source": [
    "df_escolas.isnull().sum()"
   ]
  },
  {
   "cell_type": "markdown",
   "id": "c71a68e4",
   "metadata": {},
   "source": [
    "IDHM_dataset.xlsx\n",
    "0%\n",
    "\n",
    "microdados_ed_basica_2021.csv\n",
    "0%\n",
    "\n",
    "MICRODADOS_ENEM_2020.csv\n",
    "55.09% para os dados utilizados (notas)"
   ]
  }
 ],
 "metadata": {
  "kernelspec": {
   "display_name": "Python 3 (ipykernel)",
   "language": "python",
   "name": "python3"
  },
  "language_info": {
   "codemirror_mode": {
    "name": "ipython",
    "version": 3
   },
   "file_extension": ".py",
   "mimetype": "text/x-python",
   "name": "python",
   "nbconvert_exporter": "python",
   "pygments_lexer": "ipython3",
   "version": "3.9.7"
  }
 },
 "nbformat": 4,
 "nbformat_minor": 5
}
