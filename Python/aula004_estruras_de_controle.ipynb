{
 "cells": [
  {
   "cell_type": "code",
   "execution_count": 1,
   "metadata": {},
   "outputs": [],
   "source": [
    "import pandas as pd\n",
    "import ipywidgets as widgets\n",
    "from ipywidgets import fixed\n",
    "from ipywidgets import interact\n",
    "import plotly.express as px"
   ]
  },
  {
   "cell_type": "code",
   "execution_count": 5,
   "metadata": {},
   "outputs": [],
   "source": [
    "def data_collect(path):\n",
    "    df = pd.read_csv(path)\n",
    "    return df"
   ]
  },
  {
   "cell_type": "code",
   "execution_count": 2,
   "metadata": {},
   "outputs": [],
   "source": [
    "def data_transform(df):\n",
    "    df['is_waterfront'] = df['waterfront'].apply(lambda x: 'yes' if x == 1 else 'no')\n",
    "    df['level'] = df['price'].apply(lambda x : 0 if x < 32950 else \n",
    "                                               1 if (x > 321950) & (x < 450000) else\n",
    "                                               2 if (x > 450000) & (x <645000) else 3)\n",
    "    df['level']  = df['level'].astype(int)\n",
    "\n",
    "    return df                                           \n"
   ]
  },
  {
   "cell_type": "code",
   "execution_count": null,
   "metadata": {},
   "outputs": [],
   "source": []
  },
  {
   "cell_type": "code",
   "execution_count": 3,
   "metadata": {},
   "outputs": [],
   "source": [
    "def data_load(df, waterfront, limit):\n",
    "#def data_load(df):    \n",
    "\n",
    "    houses = df[(df['price'] <= limit) & \n",
    "                (df['is_waterfront'] == waterfront)][['id', 'lat', 'long', 'price', 'level']]\n",
    "    # houses = df.head(100)\n",
    "    fig = px.scatter_mapbox(houses,\n",
    "                            lat='lat',\n",
    "                            lon='long',\n",
    "                            color='level',\n",
    "                            size='price',\n",
    "#                            color_continuous_scale=px.colors.cyclical.IceFire,\n",
    "                            color_discrete_sequence=['blueviolet'], \n",
    "                            size_max=15,\n",
    "                            zoom=10)\n",
    "    fig.update_layout(mapbox_style='open-street-map')\n",
    "    #fig.update_layout(width=800, height=500, margin={'r':0, 't':0, 'l':0, 'b':0})    \n",
    "    fig.update_layout(height=500, margin={'r':0, 't':0, 'l':0, 'b':0})    \n",
    "    fig.show()\n"
   ]
  },
  {
   "cell_type": "code",
   "execution_count": null,
   "metadata": {},
   "outputs": [
    {
     "data": {
      "application/vnd.jupyter.widget-view+json": {
       "model_id": "ddba3b01abea4cacb3d7cab0b8ef2c3f",
       "version_major": 2,
       "version_minor": 0
      },
      "text/plain": [
       "interactive(children=(Dropdown(description='Water view', index=1, options=('no', 'yes'), value='yes'), IntSlid…"
      ]
     },
     "metadata": {},
     "output_type": "display_data"
    }
   ],
   "source": [
    "\n",
    "def main():\n",
    "    \n",
    "    data_raw = data_collect('datasets\\kc_house_data.csv')\n",
    "\n",
    "    \n",
    "    data_processing = data_transform(data_raw)\n",
    "    \n",
    "\n",
    "    style = {'description_width': 'initial'}\n",
    "\n",
    "    price_limit = widgets.IntSlider(\n",
    "        value = 540000,\n",
    "        min = 75000,\n",
    "        max = 77000000,\n",
    "        step = 1,\n",
    "        description = 'Maximun Price',\n",
    "        disable = False,\n",
    "        style = style\n",
    "    )\n",
    "\n",
    "    waterfront_bar = widgets.Dropdown(\n",
    "        options = data_processing['is_waterfront'].unique().tolist(),\n",
    "        value = 'yes',\n",
    "        description = 'Water view',\n",
    "        disable=False\n",
    "    )\n",
    "    \n",
    "    #price_limit\n",
    "    #waterfront_bar\n",
    "    \n",
    "    widgets.interact(data_load, df=fixed(data_processing), waterfront=waterfront_bar, limit=price_limit)\n",
    "  \n",
    "    \n",
    "    #data_load(data_processing)\n",
    "\n",
    "if __name__ == \"__main__\":\n",
    "    main()\n"
   ]
  },
  {
   "cell_type": "code",
   "execution_count": null,
   "metadata": {},
   "outputs": [],
   "source": []
  }
 ],
 "metadata": {
  "kernelspec": {
   "display_name": "Python 3 (ipykernel)",
   "language": "python",
   "name": "python3"
  },
  "language_info": {
   "codemirror_mode": {
    "name": "ipython",
    "version": 3
   },
   "file_extension": ".py",
   "mimetype": "text/x-python",
   "name": "python",
   "nbconvert_exporter": "python",
   "pygments_lexer": "ipython3",
   "version": "3.9.7"
  }
 },
 "nbformat": 4,
 "nbformat_minor": 2
}
