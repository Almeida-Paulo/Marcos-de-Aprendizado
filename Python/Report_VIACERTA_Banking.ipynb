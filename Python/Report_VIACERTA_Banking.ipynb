{
 "cells": [
  {
   "cell_type": "markdown",
   "id": "c681920a",
   "metadata": {
    "extensions": {
     "jupyter_dashboards": {
      "version": 1,
      "views": {
       "grid_default": {},
       "report_default": {
        "hidden": false
       }
      }
     }
    }
   },
   "source": [
    "# <p style=\"text-align: center;\">Mapeamento de dados para escolha das escolas a serem beneficiadas</p>"
   ]
  },
  {
   "cell_type": "markdown",
   "id": "cc4dbdb9",
   "metadata": {
    "extensions": {
     "jupyter_dashboards": {
      "version": 1,
      "views": {
       "grid_default": {},
       "report_default": {
        "hidden": false
       }
      }
     }
    }
   },
   "source": [
    "### Valor do Investimento\n",
    "Para as três séries do ensino médio, com 30 alunos em cada série, com apenas uma turma para cada série em cada uma das 100 escolas, tem-se o total de 9000 alunos a serem beneficiados pelo programa. Deste modo, o valor total a ser investido, em Reais, é:\n",
    "\n",
    "+ #### Valor com preço do dólar em janeiro de 2019 (R\\$ 3,657)\n",
    "\n",
    "> R\\$ 329.130,00/mês\n",
    "\n",
    "\n",
    "+ #### Valor com preço do dólar em dezembro de 2020 (R\\$ 5,196)\n",
    "\n",
    "> R\\$ 467.640,00/mês\n",
    "\n",
    "\n",
    "\n"
   ]
  },
  {
   "cell_type": "markdown",
   "id": "243694b1",
   "metadata": {
    "extensions": {
     "jupyter_dashboards": {
      "version": 1,
      "views": {
       "grid_default": {},
       "report_default": {
        "hidden": false
       }
      }
     }
    }
   },
   "source": [
    "### Arquivos Utilizados\n",
    "\n",
    ">##### MICRODADOS_ENEM_2020.csv\n",
    ">> Foi utilizado para acessar os dados do ENEM 2020, onde fez-se o uso das notas em todas as provas, colégios em que as provas foram realizadas e número de identificação dos candidatos, para cálculo do número de participantes.\n",
    ">> Esse arquivo foi obtido neste [link](https://www.gov.br/inep/pt-br/acesso-a-informacao/dados-abertos/microdados/enem  \"Site com dados do ENEM\").\n",
    "\n",
    ">##### IDHM_dataset.xlsx\n",
    ">> Foi utilizado para verificar os índices de desenvolvimento dos municípios e estados brasileiros.\n",
    ">> Esse arquivo foi obtido em forma de tabela, através do excel, a partir deste [link](https://www.br.undp.org/content/brazil/pt/home/idh0/rankings/idhm-municipios-2010.html  \"IDHM Municípios 2010\").\n",
    "\n",
    ">##### microdados_ed_basica_2021.csv\n",
    ">> Esse arquivo foi utilizado para criar tabelas com os nomes das escolas elegíveis para o programa.\n",
    ">> O arquivo foi obtido em formato csv, baixado a partir deste [link](https://inepdata.inep.gov.br/analytics/saw.dll?Dashboard&PortalPath=%2Fshared%2FCenso%20da%20Educa%C3%A7%C3%A3o%20B%C3%A1sica%2F_portal%2FCat%C3%A1logo%20de%20Escolas&Page=Lista%20das%20Escolas&P1=dashboard&Action=Navigate&ViewState=g1n321br5g6kta3gaikqh360m2&P16=NavRuleDefault&NavFromViewID=d%3Adashboard~p%3Asf156n9k0qs70741  \"IDHM Municípios 2010\"), com filtros configurados para mostrar todas as ocorrências.\n",
    "\n",
    "\n"
   ]
  },
  {
   "cell_type": "markdown",
   "id": "5c3d9ddc",
   "metadata": {
    "extensions": {
     "jupyter_dashboards": {
      "version": 1,
      "views": {
       "grid_default": {},
       "report_default": {
        "hidden": false
       }
      }
     }
    }
   },
   "source": [
    "### Tratamentos Aplicados nas Bases de Dados\n",
    "\n",
    ">##### MICRODADOS_ENEM_2020.csv\n",
    ">\n",
    ">> Particionamento do dataset (criação de alguns datasets com poucas colunas).\n",
    ">\n",
    ">> Remoção de linhas com valores faltantes (prováveis abstenções).\n",
    ">\n",
    "\n",
    "\n",
    ">##### IDHM_dataset.xlsx\n",
    ">\n",
    ">> Alteração do tipo dos dados nas colunas com números (object para float64).\n",
    ">\n",
    ">> Alteração do separador decimal (',' para '.').\n",
    ">\n",
    ">> Remoção de erros, para homogeneidade dos dados. Todos foram transformados em número do tipo '0.123' (exs: '0.745td>' se tornou '0.745'; '0.45' se tornou '0.450'.\n",
    "\n",
    "\n",
    ">##### microdados_ed_basica_2021.csv\n",
    ">\n",
    ">> Particionamento com aplicação de filtros (seleção de colunas e linhas desejadas).\n",
    "\n",
    "\n",
    "### Dados Faltantes\n",
    "\n",
    ">#### IDHM_dataset.xlsx `0%`\n",
    "\n",
    ">#### microdados_ed_basica_2021.csv `0%`\n",
    "\n",
    ">#### MICRODADOS_ENEM_2020.csv* `55.09%` \n",
    "\n",
    "\n",
    "*Para os dados utilizados, ou seja, apenas as colunas com as notas e id dos candidatos.\n",
    "\n"
   ]
  },
  {
   "cell_type": "markdown",
   "id": "fb38e31e",
   "metadata": {
    "extensions": {
     "jupyter_dashboards": {
      "version": 1,
      "views": {
       "grid_default": {},
       "report_default": {
        "hidden": false
       }
      }
     }
    }
   },
   "source": [
    "### Visão Geral das Bases de Dados\n",
    "\n",
    "\n"
   ]
  },
  {
   "cell_type": "code",
   "execution_count": 57,
   "id": "43551278",
   "metadata": {
    "extensions": {
     "jupyter_dashboards": {
      "version": 1,
      "views": {
       "grid_default": {},
       "report_default": {
        "hidden": true
       }
      }
     }
    }
   },
   "outputs": [],
   "source": [
    "import pandas as pd\n",
    "from matplotlib import pyplot as plt\n",
    "import seaborn as sns\n",
    "data_IDHM = pd.read_excel(r'datasets/IDHM_dataset.xlsx')\n",
    "#data_ENEM = pd.read_csv('datasets/MICRODADOS_ENEM_2020.csv', sep=\";\", encoding=\"latin-1\", nrows=10)\n",
    "#data_escolas = pd.read_csv('datasets/microdados_ed_basica_2021.csv', sep=\";\", encoding=\"latin-1\", nrows=10)"
   ]
  },
  {
   "cell_type": "markdown",
   "id": "3456e08e",
   "metadata": {
    "extensions": {
     "jupyter_dashboards": {
      "version": 1,
      "views": {
       "grid_default": {},
       "report_default": {
        "hidden": false
       }
      }
     }
    }
   },
   "source": [
    "#### Número de inscritos no Enem 2020\n",
    "\n",
    "`5.783.109 pessoas tiveram inscrições efetivadas para o ENEM 2020.*`\n",
    "\n",
    "*O valor varia um pouco dos dados oficiais divulgados.\n"
   ]
  },
  {
   "cell_type": "markdown",
   "id": "574fdb48",
   "metadata": {
    "extensions": {
     "jupyter_dashboards": {
      "version": 1,
      "views": {
       "grid_default": {},
       "report_default": {
        "hidden": false
       }
      }
     }
    }
   },
   "source": [
    "#### Notas médias das provas do ENEM 2020\n",
    "\n",
    "Existe uma pequena diferença dos dados oficias, pois foram excluídos simultaneamente os valores faltantes e zeros.\n",
    " \n"
   ]
  },
  {
   "cell_type": "code",
   "execution_count": 21,
   "id": "0ac0fa2c",
   "metadata": {
    "extensions": {
     "jupyter_dashboards": {
      "version": 1,
      "views": {
       "grid_default": {},
       "report_default": {
        "hidden": true
       }
      }
     }
    }
   },
   "outputs": [],
   "source": [
    "notas_ENEM = ['NU_NOTA_CN', 'NU_NOTA_CH', 'NU_NOTA_LC', 'NU_NOTA_MT', 'NU_NOTA_REDACAO']\n",
    "df_notas = pd.read_csv('datasets/MICRODADOS_ENEM_2020.csv', sep=\";\", encoding=\"ISO-8859-1\", usecols=notas_ENEM)\n",
    "df_notas.dropna(axis=0, subset=['NU_NOTA_CN', 'NU_NOTA_CH', 'NU_NOTA_LC', 'NU_NOTA_MT', 'NU_NOTA_REDACAO'], inplace=True)"
   ]
  },
  {
   "cell_type": "code",
   "execution_count": 28,
   "id": "f30011f5",
   "metadata": {
    "extensions": {
     "jupyter_dashboards": {
      "version": 1,
      "views": {
       "grid_default": {},
       "report_default": {
        "hidden": true
       }
      }
     }
    }
   },
   "outputs": [],
   "source": [
    "nota_CN = df_notas['NU_NOTA_CN'].mean()\n",
    "nota_CH = df_notas['NU_NOTA_CH'].mean()\n",
    "nota_LC = df_notas['NU_NOTA_LC'].mean()\n",
    "nota_MT = df_notas['NU_NOTA_MT'].mean()\n",
    "nota_REDACAO = df_notas['NU_NOTA_REDACAO'].mean()\n",
    "media_total = round((nota_CN + nota_CH + nota_LC + nota_MT + nota_REDACAO)/5, 2)"
   ]
  },
  {
   "cell_type": "code",
   "execution_count": 50,
   "id": "0224a925",
   "metadata": {
    "extensions": {
     "jupyter_dashboards": {
      "version": 1,
      "views": {
       "grid_default": {},
       "report_default": {
        "hidden": false
       }
      }
     }
    }
   },
   "outputs": [
    {
     "data": {
      "image/png": "[encoded data removed]",
      "text/plain": [
       "<Figure size 864x432 with 1 Axes>"
      ]
     },
     "metadata": {
      "needs_background": "light"
     },
     "output_type": "display_data"
    }
   ],
   "source": [
    "data_notas = {'Prova':  ['Ciências da Natureza', 'Ciências Humanas', 'Linguagens e Códigos', 'Matemática', 'Redação', 'Média Total'],\n",
    "        'Nota': [nota_CN, nota_CH, nota_LC, nota_MT, nota_REDACAO, media_total]\n",
    "        }\n",
    "\n",
    "df = pd.DataFrame(data_notas)\n",
    "df = df.round(2)\n",
    "\n",
    "plt.figure(figsize=(12, 6))\n",
    "ax = sns.barplot(data=df, x='Prova', y='Nota', errwidth=0)\n",
    "ax.bar_label(ax.containers[0])\n",
    "plt.title('Gráfico 1 - Notas Médias ENEM 2020', size=14, loc='left', family='monospace', weight=800)\n",
    "plt.xlabel(None)\n",
    "plt.ylabel(None)\n",
    "plt.show()"
   ]
  },
  {
   "cell_type": "markdown",
   "id": "44b56f64",
   "metadata": {
    "extensions": {
     "jupyter_dashboards": {
      "version": 1,
      "views": {
       "grid_default": {},
       "report_default": {
        "hidden": false
       }
      }
     }
    }
   },
   "source": [
    "### Escolas a Serem Escolhidas\n",
    "\n",
    "Os dados sobre a origem escolar dos alunos não são confiáveis (missing muito alto). Portanto, foram utilizados dados do Catálogo de Escolas, disponibilizado no site Inep data, concomitantemente com os dados de IDHM.\n",
    "Foi decidido que, para este programa, serão beneficiadas escolas estaduais e municipais, do estado do Maranhão, escolhido dentre os demais por ser o estado de menor IDHM Renda (Gráfico 2). O número de escolas escolhidas, totalizando 100 escolas, foi o seguinte:\n",
    "* 10 Escolas Estaduais Rurais\n",
    "* 10 Escolas Municipais Rurais\n",
    "* 40 Escolas Estaduais Urbanas\n",
    "* 40 Escolas Municipais Urbanas\n",
    "\n"
   ]
  },
  {
   "cell_type": "code",
   "execution_count": null,
   "id": "453f6714",
   "metadata": {
    "extensions": {
     "jupyter_dashboards": {
      "version": 1,
      "views": {
       "grid_default": {},
       "report_default": {
        "hidden": true
       }
      }
     }
    }
   },
   "outputs": [],
   "source": [
    "data_IDHM['IDHM'] = data_IDHM['IDHM'].str.replace(',','.')\n",
    "data_IDHM['IDHM_Renda'] = data_IDHM['IDHM_Renda'].str.replace(',','.')\n",
    "data_IDHM['IDHM_Longevidade'] = data_IDHM['IDHM_Longevidade'].str.replace(',','.')\n",
    "data_IDHM['IDHM_Educacao'] = data_IDHM['IDHM_Educacao'].str.replace(',','.')"
   ]
  },
  {
   "cell_type": "code",
   "execution_count": null,
   "id": "74517ba0",
   "metadata": {
    "extensions": {
     "jupyter_dashboards": {
      "version": 1,
      "views": {
       "grid_default": {},
       "report_default": {
        "hidden": true
       }
      }
     }
    }
   },
   "outputs": [],
   "source": [
    "data_IDHM['IDHM_Renda'] = data_IDHM['IDHM_Renda'].str[:5]\n",
    "data_IDHM['IDHM_Longevidade'] = data_IDHM['IDHM_Longevidade'].str[:5]\n",
    "data_IDHM['IDHM_Educacao'] = data_IDHM['IDHM_Educacao'].str[:5]"
   ]
  },
  {
   "cell_type": "code",
   "execution_count": null,
   "id": "4e713273",
   "metadata": {
    "extensions": {
     "jupyter_dashboards": {
      "version": 1,
      "views": {
       "grid_default": {},
       "report_default": {
        "hidden": true
       }
      }
     }
    }
   },
   "outputs": [],
   "source": [
    "data_IDHM['IDHM'] = data_IDHM['IDHM'].astype(float)\n",
    "data_IDHM['IDHM_Renda'] = data_IDHM['IDHM_Renda'].astype(float)\n",
    "data_IDHM['IDHM_Longevidade'] = data_IDHM['IDHM_Longevidade'].astype(float)\n",
    "data_IDHM['IDHM_Educacao'] = data_IDHM['IDHM_Educacao'].astype(float)"
   ]
  },
  {
   "cell_type": "code",
   "execution_count": 64,
   "id": "1a7ebe1e",
   "metadata": {
    "extensions": {
     "jupyter_dashboards": {
      "version": 1,
      "views": {
       "grid_default": {},
       "report_default": {
        "hidden": false
       }
      }
     }
    }
   },
   "outputs": [
    {
     "data": {
      "image/png": "[encoded data removed]",
      "text/plain": [
       "<Figure size 792x648 with 1 Axes>"
      ]
     },
     "metadata": {
      "needs_background": "light"
     },
     "output_type": "display_data"
    }
   ],
   "source": [
    "data_IDHM['UF'] = data_IDHM['Municipio'].str.extract(r\"\\((.*?)\\)\", expand=False)\n",
    "\n",
    "renda_by_UF = data_IDHM[['IDHM_Renda', 'UF']].groupby('UF').mean().sort_values('IDHM_Renda', ascending=False).reset_index()\n",
    "renda_by_UF_frame = pd.DataFrame(renda_by_UF)\n",
    "renda_by_UF_frame = renda_by_UF_frame.sort_values(['IDHM_Renda'], ascending=False).reset_index(drop=True)\n",
    "\n",
    "plt.figure(figsize=(11, 9))\n",
    "\n",
    "ax = sns.barplot(\n",
    "        x=\"IDHM_Renda\", \n",
    "        y=\"UF\", \n",
    "        data=renda_by_UF_frame, \n",
    "        ci=None, \n",
    "        color='#69b3a2')\n",
    "\n",
    "plt.xlabel('Renda', size=12, family='monospace', weight=800)\n",
    "plt.ylabel('UF', size=12, family='monospace', weight=800)\n",
    "plt.title('Gráfico 2 - IDHM de Renda por Unidade da federação', loc='left', size=14, family='monospace', weight=1000)\n",
    "\n",
    "plt.show()"
   ]
  },
  {
   "cell_type": "markdown",
   "id": "179a3c84",
   "metadata": {
    "extensions": {
     "jupyter_dashboards": {
      "version": 1,
      "views": {
       "grid_default": {},
       "report_default": {
        "hidden": false
       }
      }
     }
    }
   },
   "source": [
    "As escolas das cidades que atendem aos critérios (IDHM < 0,599), deverão ser escolhidas, apenas, dentre as escolas presentes nas tabelas:\n",
    "\n",
    "* [Escolas Estaduais Rurais](https://docs.google.com/spreadsheets/d/1wkHESOZemxqBk_cICKitwZqHQl3hlOyx/edit?usp=sharing&ouid=102199336098684708940&rtpof=true&sd=true) \n",
    "* [Escolas Municipais Rurais](https://docs.google.com/spreadsheets/d/16Y7z1T09KTIF7CyY7Qy6zHycXtXi-Qxz/edit?usp=sharing&ouid=102199336098684708940&rtpof=true&sd=true)\n",
    "* [Escolas Estaduais Urbanas](https://docs.google.com/spreadsheets/d/1wr9U6sTvK0f6__c-bT8X1lGpF9YSymku/edit?usp=sharing&ouid=102199336098684708940&rtpof=true&sd=true)\n",
    "* [Escolas Municipais Urbanas](https://docs.google.com/spreadsheets/d/19cU_e7Sxcs96KzbMaJgHOZOJ540kgofR/edit?usp=sharing&ouid=102199336098684708940&rtpof=true&sd=true)"
   ]
  },
  {
   "cell_type": "markdown",
   "id": "13e3d6b1",
   "metadata": {
    "extensions": {
     "jupyter_dashboards": {
      "version": 1,
      "views": {
       "grid_default": {},
       "report_default": {
        "hidden": false
       }
      }
     }
    }
   },
   "source": [
    "### Conclusão\n",
    "\n",
    ">Com o método adotado, alunos carentes, que moram em lugares com baixos índices econômicos e educacionais, serão beneficiados. O método concentra-se em uma região, podendo ser trabalhada uma região por ano, ou ser alterado para abranger todo o território nacional a cada período anual.\n",
    ">\n",
    ">Como sugestão, indica-se adotar métodos filantrópicos de participação direta, ou seja, investir diretamente em programas de educação dos alunos, com oferta de cursos, oficinas, mentoriais e etc, de modo a não ser necessário o repasse para as escolas, para que haja uma independência do método de ensino."
   ]
  }
 ],
 "metadata": {
  "extensions": {
   "jupyter_dashboards": {
    "activeView": "report_default",
    "version": 1,
    "views": {
     "grid_default": {
      "name": "grid",
      "type": "grid"
     },
     "report_default": {
      "name": "report",
      "type": "report"
     }
    }
   }
  },
  "kernelspec": {
   "display_name": "Python 3 (ipykernel)",
   "language": "python",
   "name": "python3"
  },
  "language_info": {
   "codemirror_mode": {
    "name": "ipython",
    "version": 3
   },
   "file_extension": ".py",
   "mimetype": "text/x-python",
   "name": "python",
   "nbconvert_exporter": "python",
   "pygments_lexer": "ipython3",
   "version": "3.9.7"
  }
 },
 "nbformat": 4,
 "nbformat_minor": 5
}
